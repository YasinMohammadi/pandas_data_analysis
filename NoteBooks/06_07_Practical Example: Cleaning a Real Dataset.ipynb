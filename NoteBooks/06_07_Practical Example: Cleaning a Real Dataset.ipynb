{
 "cells": [
  {
   "cell_type": "markdown",
   "metadata": {},
   "source": [
    "# 8. Practical Example: Cleaning a Real Dataset\n",
    "\n",
    "In this section, we will apply the techniques learned so far to clean and preprocess a real-world dataset. The process involves loading the dataset, exploring its structure, and performing step-by-step cleaning operations.\n",
    "\n",
    "## Dataset Overview\n",
    "We will use a dataset containing information about sales transactions.\n",
    "\n",
    "### Steps:\n",
    "1. Load the dataset.\n",
    "2. Explore the dataset using `head()`, `info()`, and `describe()`.\n",
    "\n"
   ]
  },
  {
   "cell_type": "code",
   "execution_count": null,
   "metadata": {},
   "outputs": [],
   "source": [
    "import pandas as pd\n",
    "\n",
    "# Load the dataset\n",
    "file_path = '../DataSets/Data_COVID19_Indonesia.csv' \n",
    "covid_data = pd.read_csv(file_path)\n",
    "\n",
    "# Explore the dataset\n",
    "print('First few rows of the dataset:')\n",
    "print(covid_data.head())\n",
    "\n",
    "print('Dataset Info:')\n",
    "print(covid_data.info())\n",
    "\n",
    "print('Summary Statistics:')\n",
    "print(covid_data.describe())"
   ]
  },
  {
   "cell_type": "markdown",
   "metadata": {},
   "source": [
    "## Step-by-Step Cleaning\n",
    "\n",
    "### 1. Address Missing Values\n",
    "- Identify missing values using `isnull().sum()`.\n",
    "- Fill missing values or drop rows/columns as necessary.\n",
    "\n"
   ]
  },
  {
   "cell_type": "code",
   "execution_count": null,
   "metadata": {},
   "outputs": [],
   "source": [
    "# Identify missing values\n",
    "print('Missing values in each column:')\n",
    "print([covid_data.isnull().sum()])\n",
    "\n",
    "# Fill or drop missing values\n",
    "covid_data['Growth Factor of New Cases'] = covid_data['Growth Factor of New Cases'].fillna(covid_data['Growth Factor of New Cases'].mean())\n",
    "covid_data = covid_data.dropna(subset=['Time Zone'])\n",
    "print('Dataset after handling missing values:')\n",
    "print(covid_data.info())"
   ]
  },
  {
   "cell_type": "code",
   "execution_count": null,
   "metadata": {},
   "outputs": [],
   "source": [
    "sr = pd.Series(covid_data.isnull().sum())"
   ]
  },
  {
   "cell_type": "code",
   "execution_count": null,
   "metadata": {},
   "outputs": [],
   "source": [
    "covid_data.columns"
   ]
  },
  {
   "cell_type": "markdown",
   "metadata": {},
   "source": [
    "### 2. Convert Columns to Proper Data Types\n",
    "- Ensure numeric columns are of the correct type.\n",
    "- Convert date columns to datetime format.\n",
    "\n"
   ]
  },
  {
   "cell_type": "code",
   "execution_count": null,
   "metadata": {},
   "outputs": [],
   "source": [
    "# Convert data types\n",
    "covid_data['Date'] = pd.to_datetime(covid_data['Date'], format='%%m-%d-%Y', errors='coerce')\n",
    "covid_data[['Total Cases', 'Total Deaths','Total Recovered', 'Total Active Cases']] = covid_data[['Total Cases', 'Total Deaths','Total Recovered', 'Total Active Cases']].astype(int)\n",
    "print('Dataset after converting data types:')\n",
    "print(covid_data.info())"
   ]
  },
  {
   "cell_type": "markdown",
   "metadata": {},
   "source": [
    "### 3. Handle Inconsistent and Duplicate Data\n",
    "- Remove duplicate rows using `drop_duplicates()`.\n",
    "- Normalize text fields for consistency.\n",
    "\n"
   ]
  },
  {
   "cell_type": "code",
   "execution_count": null,
   "metadata": {},
   "outputs": [],
   "source": [
    "# Remove duplicates\n",
    "covid_data = covid_data.drop_duplicates()\n",
    "print('Dataset after removing duplicates:')\n",
    "print(covid_data.info())\n",
    "\n",
    "# Normalize text fields\n",
    "covid_data['Location'] = covid_data['Location'].str.strip().str.title()\n",
    "print('Dataset after normalizing text fields:')\n",
    "print(covid_data.head())"
   ]
  },
  {
   "cell_type": "markdown",
   "metadata": {},
   "source": [
    "### 4. Rename Columns and Reorder as Needed\n",
    "- Rename ambiguous columns for clarity.\n",
    "- Reorder columns for better readability.\n",
    "\n"
   ]
  },
  {
   "cell_type": "code",
   "execution_count": null,
   "metadata": {},
   "outputs": [],
   "source": [
    "# Rename columns\n",
    "covid_data.rename(columns={'Total Deaths per Million': 'per Million Death'}, inplace=True)\n",
    "\n",
    "# Reorder columns\n",
    "columns_order = [\n",
    "    'Date', 'Location', 'Location ISO Code', 'Location Level', 'City or Regency',\n",
    "    'Province', 'Country', 'Continent', 'Island', 'Longitude', 'Latitude',\n",
    "    'Time Zone', 'Special Status', 'Population', 'Population Density', 'Area (km2)',\n",
    "    'Total Regencies', 'Total Cities', 'Total Districts', 'Total Urban Villages',\n",
    "    'Total Rural Villages', 'New Cases', 'New Deaths', 'New Recovered',\n",
    "    'New Active Cases', 'Total Cases', 'Total Cases per Million', 'New Cases per Million',\n",
    "    'Total Deaths', 'per Million Death', 'Total Deaths per 100rb',\n",
    "    'New Deaths per Million', 'Case Fatality Rate', 'Total Recovered',\n",
    "    'Case Recovered Rate', 'Total Active Cases', 'Growth Factor of New Cases',\n",
    "    'Growth Factor of New Deaths'\n",
    "]\n",
    "\n",
    "covid_data = covid_data[columns_order]\n",
    "print('Dataset after renaming and reordering columns:')\n",
    "print(covid_data.head())"
   ]
  },
  {
   "cell_type": "markdown",
   "metadata": {},
   "source": [
    "### 5. Save the Cleaned Dataset to a File\n",
    "Export the cleaned dataset to a new file for future use.\n",
    "\n"
   ]
  },
  {
   "cell_type": "code",
   "execution_count": null,
   "metadata": {},
   "outputs": [],
   "source": [
    "# Save cleaned dataset\n",
    "cleaned_file_path = '../tmp/covid_data_cleaned.csv'  # Replace with desired path\n",
    "covid_data.to_csv(cleaned_file_path, index=False)\n",
    "print(f'Cleaned dataset saved to {cleaned_file_path}')"
   ]
  }
 ],
 "metadata": {
  "kernelspec": {
   "display_name": "SchizoClassification",
   "language": "python",
   "name": "python3"
  },
  "language_info": {
   "codemirror_mode": {
    "name": "ipython",
    "version": 3
   },
   "file_extension": ".py",
   "mimetype": "text/x-python",
   "name": "python",
   "nbconvert_exporter": "python",
   "pygments_lexer": "ipython3",
   "version": "3.10.8"
  }
 },
 "nbformat": 4,
 "nbformat_minor": 2
}
