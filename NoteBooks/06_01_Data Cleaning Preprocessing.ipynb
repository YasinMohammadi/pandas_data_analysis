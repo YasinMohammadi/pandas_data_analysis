{
 "cells": [
  {
   "cell_type": "markdown",
   "id": "ce3b6a73",
   "metadata": {},
   "source": [
    "# 1. Introduction to Data Cleaning and Preprocessing\n",
    "\n",
    "Data cleaning and preprocessing are foundational steps in any data analysis or machine learning project. Without clean data, even the most sophisticated models and analyses can produce unreliable or inaccurate results.\n",
    "\n",
    "## Definition and Importance\n",
    "### What is Data Cleaning and Preprocessing?\n",
    "- **Data Cleaning**: The process of identifying and correcting (or removing) errors and inconsistencies in data to improve its quality.\n",
    "- **Data Preprocessing**: The steps taken to prepare raw data for analysis or modeling, including transformations, scaling, and encoding.\n",
    "\n",
    "### Why is it Crucial?\n",
    "1. **Accuracy**: Dirty data can lead to incorrect conclusions or poorly performing models.\n",
    "2. **Efficiency**: Cleaning data early reduces the time spent debugging later stages.\n",
    "3. **Interpretability**: Clean and well-preprocessed data make analysis easier to understand and explain.\n",
    "4. **Model Performance**: Many machine learning algorithms perform better with properly cleaned and preprocessed data.\n",
    "\n",
    "## Common Issues in Raw Data\n",
    "1. **Missing Data**:\n",
    "   - Missing values in critical fields.\n",
    "2. **Inconsistent Data**:\n",
    "   - Variations in text data (e.g., 'USA', 'U.S.A.', 'United States').\n",
    "3. **Incorrect Data Types**:\n",
    "   - Numeric fields stored as strings, or incorrect datetime formats.\n",
    "4. **Duplicate Records**:\n",
    "   - Redundant rows that can skew analysis.\n",
    "5. **Outliers**:\n",
    "   - Extreme values that distort distributions."
   ]
  },
  {
   "cell_type": "markdown",
   "id": "6ad0de31",
   "metadata": {},
   "source": [
    "# 2. Handling Missing Data\n",
    "\n",
    "Missing data is one of the most common issues in datasets and can significantly impact analysis and modeling if not handled appropriately.\n",
    "\n",
    "## Identifying Missing Data\n",
    "### Methods to Detect Missing Data\n",
    "Pandas provides functions to identify missing values:\n",
    "\n",
    "1. **`isnull()`**:\n",
    "   - Returns a DataFrame of the same shape with `True` for missing values and `False` otherwise.\n",
    "\n",
    "2. **`notnull()`**:\n",
    "   - Returns the opposite of `isnull()`.\n",
    "\n",
    "3. **`sum()`**:\n",
    "   - Can be combined with `isnull()` to count missing values in columns or rows.\n",
    "\n",
    "### Visualizing Missing Data\n",
    "Visualization tools like Seaborn make it easier to understand patterns of missing data. The `heatmap()` function can highlight missing values in a dataset."
   ]
  },
  {
   "cell_type": "code",
   "execution_count": null,
   "id": "537627ad",
   "metadata": {},
   "outputs": [],
   "source": [
    "import pandas as pd\n",
    "import numpy as np\n",
    "import seaborn as sns\n",
    "import matplotlib.pyplot as plt\n",
    "\n",
    "# Example DataFrame with missing data\n",
    "data = {\"Name\": ['Alice', 'Bob', 'Charlie', 'David'], \"Age\": [25, np.nan, 30, 35], \"Salary\": [50000, 60000, np.nan, 70000]}\n",
    "df = pd.DataFrame(data)\n",
    "print('Original DataFrame:')\n",
    "print(df)\n",
    "\n",
    "# Detecting missing data\n",
    "print('Missing values per column:')\n",
    "print(df.isnull().sum())\n",
    "\n",
    "# Visualizing missing data\n",
    "plt.figure(figsize=(6, 4))\n",
    "sns.heatmap(df.isnull(), cbar=False, cmap='viridis')\n",
    "plt.title('Missing Data Heatmap')\n",
    "plt.show()"
   ]
  },
  {
   "cell_type": "markdown",
   "id": "f62a14f9",
   "metadata": {},
   "source": [
    "## Techniques to Handle Missing Data\n",
    "\n",
    "### 1. Removing Missing Data\n",
    "Sometimes, it's acceptable to remove rows or columns with missing values if the proportion of missing data is small.\n",
    "\n",
    "#### `dropna()`\n",
    "- Removes rows or columns with missing data.\n",
    "- Parameters:\n",
    "  - `axis=0`: Removes rows with missing data (default).\n",
    "  - `axis=1`: Removes columns with missing data.\n",
    "  - `thresh`: Keeps rows/columns with at least a minimum number of non-missing values."
   ]
  },
  {
   "cell_type": "code",
   "execution_count": null,
   "id": "97c417ad",
   "metadata": {},
   "outputs": [],
   "source": [
    "# Drop rows with missing data\n",
    "print('Drop rows with missing data:')\n",
    "print(df.dropna())\n",
    "\n",
    "# Drop columns with missing data\n",
    "print('Drop columns with missing data:')\n",
    "print(df.dropna(axis=1))\n",
    "\n",
    "# Keep rows with at least 2 non-missing values\n",
    "print('Keep rows with at least 2 non-missing values:')\n",
    "print(df.dropna(thresh=2))"
   ]
  },
  {
   "cell_type": "markdown",
   "id": "a3a574a5",
   "metadata": {},
   "source": [
    "### 2. Filling Missing Data\n",
    "Instead of dropping missing data, we can fill them with meaningful values.\n",
    "\n",
    "#### `fillna()`\n",
    "- Fills missing values with specified values or strategies.\n",
    "- Strategies:\n",
    "  - Replace with constants (e.g., `fillna(0)`).\n",
    "  - Replace with statistical values (mean, median, mode).\n",
    "  - Use forward-fill (`method='ffill'`) or backward-fill (`method='bfill'`).\n",
    "#### `ffill()`\n",
    "  - Fills missing values with forward-fill strategy.\n",
    "#### `bfill()`\n",
    "- Fills missing values with backward-fill strategy.\n"
   ]
  },
  {
   "cell_type": "code",
   "execution_count": null,
   "id": "4a7678de",
   "metadata": {},
   "outputs": [],
   "source": [
    "# Fill missing values with mean\n",
    "print('Fill missing values with mean:')\n",
    "print(df.fillna(0))\n",
    "\n",
    "# Forward-fill missing values\n",
    "print('Forward-fill missing values:')\n",
    "print(df.ffill())\n",
    "\n",
    "# Backward-fill missing values\n",
    "print('Backward-fill missing values:')\n",
    "print(df.bfill())"
   ]
  },
  {
   "cell_type": "markdown",
   "id": "30c2ce6e",
   "metadata": {},
   "source": [
    "### 3. Interpolation\n",
    "Interpolation estimates missing values based on surrounding data.\n",
    "\n",
    "#### Types of Interpolation:\n",
    "- **Linear Interpolation**: Assumes values change linearly between points.\n",
    "- **Quadratic/Polynomial Interpolation**: Fits a curve to the data for more accuracy in non-linear distributions."
   ]
  },
  {
   "cell_type": "code",
   "execution_count": null,
   "id": "63759944",
   "metadata": {},
   "outputs": [],
   "source": [
    "# Linear interpolation\n",
    "print('Linear interpolation:')\n",
    "print(df.interpolate())\n",
    "\n",
    "# Quadratic interpolation\n",
    "print('Quadratic interpolation:')\n",
    "print(df.interpolate(method='quadratic'))"
   ]
  },
  {
   "cell_type": "markdown",
   "id": "c61b12dc",
   "metadata": {},
   "source": [
    "### 4. Advanced Imputation\n",
    "Advanced methods like regression or machine learning-based imputation can be used for complex datasets.\n",
    "\n",
    "#### Using `SimpleImputer` from Scikit-Learn:\n",
    "- Provides strategies for imputing missing values.\n",
    "- Common strategies include mean, median, most frequent, or constant."
   ]
  },
  {
   "cell_type": "code",
   "execution_count": null,
   "id": "2f9d6dda",
   "metadata": {},
   "outputs": [],
   "source": [
    "from sklearn.impute import SimpleImputer\n",
    "\n",
    "# Example: Impute missing values with the median\n",
    "imputer = SimpleImputer(strategy='median')\n",
    "df[['Age', 'Salary']] = imputer.fit_transform(df[['Age', 'Salary']])\n",
    "print('DataFrame after imputation:')\n",
    "print(df)"
   ]
  }
 ],
 "metadata": {
  "kernelspec": {
   "display_name": "SchizoClassification",
   "language": "python",
   "name": "python3"
  },
  "language_info": {
   "codemirror_mode": {
    "name": "ipython",
    "version": 3
   },
   "file_extension": ".py",
   "mimetype": "text/x-python",
   "name": "python",
   "nbconvert_exporter": "python",
   "pygments_lexer": "ipython3",
   "version": "3.10.8"
  }
 },
 "nbformat": 4,
 "nbformat_minor": 5
}
