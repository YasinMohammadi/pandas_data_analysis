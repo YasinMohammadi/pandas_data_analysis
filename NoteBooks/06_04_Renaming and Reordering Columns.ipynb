{
 "cells": [
  {
   "cell_type": "markdown",
   "metadata": {},
   "source": [
    "# 5. Renaming and Reordering Columns\n",
    "\n",
    "Working with datasets often requires renaming columns for better clarity or reordering them for easier analysis. Pandas provides simple methods to achieve both.\n",
    "\n",
    "## Renaming Columns\n",
    "\n",
    "Column names in a dataset may be ambiguous, overly long, or poorly labeled. Renaming them improves readability and usability.\n",
    "\n",
    "### Method: `rename()`\n",
    "- Renames specific columns in a DataFrame.\n",
    "- Parameters:\n",
    "  - **`columns`**: A dictionary mapping old column names to new ones.\n",
    "  - **`inplace`**: If `True`, modifies the original DataFrame. Otherwise, returns a new DataFrame.\n",
    "\n",
    "#### Example:\n"
   ]
  },
  {
   "cell_type": "code",
   "execution_count": null,
   "metadata": {},
   "outputs": [],
   "source": [
    "import pandas as pd\n",
    "\n",
    "# Example DataFrame with ambiguous column names\n",
    "data = {\"Unnamed: 0\": [1, 2, 3], \"Col A\": ['Alice', 'Bob', 'Charlie'], \"Col B\": [25, 30, 35]}\n",
    "df = pd.DataFrame(data)\n",
    "print('Original DataFrame:')\n",
    "print(df)\n",
    "\n",
    "# Renaming columns\n",
    "df_renamed = df.rename(columns={'Unnamed: 0': 'ID', 'Col A': 'Name', 'Col B': 'Age'}, inplace=False)\n",
    "print('DataFrame after renaming columns:')\n",
    "print(df_renamed)"
   ]
  },
  {
   "cell_type": "markdown",
   "metadata": {},
   "source": [
    "## Reordering Columns\n",
    "\n",
    "Reordering columns can make a DataFrame more intuitive to work with by prioritizing important information.\n",
    "\n",
    "### Methods:\n",
    "1. **Indexing**:\n",
    "   - Use column names to specify the desired order.\n",
    "2. **Slicing**:\n",
    "   - Rearrange subsets of columns while maintaining original order for others.\n",
    "\n",
    "#### Example:\n"
   ]
  },
  {
   "cell_type": "code",
   "execution_count": null,
   "metadata": {},
   "outputs": [],
   "source": [
    "# Reordering columns\n",
    "columns_order = ['Name', 'Age', 'ID']\n",
    "df_reordered = df_renamed[columns_order]\n",
    "print('DataFrame after reordering columns:')\n",
    "print(df_reordered)"
   ]
  },
  {
   "cell_type": "markdown",
   "metadata": {},
   "source": [
    "## Practical Examples\n",
    "\n",
    "### Renaming Ambiguous Column Names\n",
    "Datasets often contain column names such as 'Unnamed: 0' or 'Column1'. These can be replaced with more descriptive names for clarity.\n",
    "\n",
    "### Reordering for Intuition\n",
    "Reorder columns to prioritize critical information, such as placing IDs or names at the beginning. This makes the dataset easier to read and analyze.\n",
    "\n",
    "By renaming and reordering columns, you can transform a confusing dataset into a structured and accessible format."
   ]
  }
 ],
 "metadata": {
  "language_info": {
   "name": "python"
  }
 },
 "nbformat": 4,
 "nbformat_minor": 2
}
