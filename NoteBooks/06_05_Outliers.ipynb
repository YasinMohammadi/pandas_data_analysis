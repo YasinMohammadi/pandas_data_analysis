{
 "cells": [
  {
   "cell_type": "markdown",
   "metadata": {},
   "source": [
    "# 6. Detecting and Handling Outliers\n",
    "\n",
    "Outliers are data points that deviate significantly from the majority of the data. They can arise due to measurement errors, data entry mistakes, or genuine variability. Identifying and handling outliers is crucial for ensuring accurate analysis and robust models.\n",
    "\n",
    "## Identifying Outliers\n",
    "\n",
    "### Using Summary Statistics\n",
    "Statistical methods can highlight potential outliers:\n",
    "1. **`describe()`**:\n",
    "   - Provides summary statistics (mean, min, max, quartiles) for numeric columns.\n",
    "   - Extreme min or max values may indicate outliers.\n",
    "2. **`quantile()`**:\n",
    "   - Calculates specific percentiles.\n",
    "   - Commonly used thresholds:\n",
    "     - Values below the 1st percentile or above the 99th percentile.\n",
    "     - Interquartile Range (IQR): Data points outside \\[Q1 - 1.5*IQR, Q3 + 1.5*IQR\\].\n",
    "#### Example:\n"
   ]
  },
  {
   "cell_type": "code",
   "execution_count": null,
   "metadata": {},
   "outputs": [],
   "source": [
    "import pandas as pd\n",
    "import numpy as np\n",
    "\n",
    "# Example DataFrame with potential outliers\n",
    "data = {'Values': [10, 12, 15, 14, 100, 18, 14, 12, 13, 150]}\n",
    "df = pd.DataFrame(data)\n",
    "print('Summary statistics:')\n",
    "print(df['Values'].describe())\n",
    "\n",
    "# Calculate IQR\n",
    "Q1 = df['Values'].quantile(0.25)\n",
    "Q3 = df['Values'].quantile(0.75)\n",
    "IQR = Q3 - Q1\n",
    "lower_bound = Q1 - 1.5 * IQR\n",
    "upper_bound = Q3 + 1.5 * IQR\n",
    "print(f'Lower bound: {lower_bound}, Upper bound: {upper_bound}')\n",
    "\n",
    "# Identify outliers\n",
    "outliers = df[(df['Values'] < lower_bound) | (df['Values'] > upper_bound)]\n",
    "print('Outliers:')\n",
    "print(outliers)"
   ]
  },
  {
   "cell_type": "markdown",
   "metadata": {},
   "source": [
    "### Visual Methods\n",
    "\n",
    "Visualization tools help to quickly identify outliers:\n",
    "1. **Boxplots**:\n",
    "   - Displays the data distribution and highlights values outside the whiskers as potential outliers.\n",
    "2. **Histograms**:\n",
    "   - Shows the frequency distribution of data, with outliers appearing as isolated bars.\n",
    "\n",
    "#### Example:\n"
   ]
  },
  {
   "cell_type": "code",
   "execution_count": null,
   "metadata": {},
   "outputs": [],
   "source": [
    "import matplotlib.pyplot as plt\n",
    "\n",
    "# Boxplot to visualize outliers\n",
    "plt.figure(figsize=(8, 4))\n",
    "plt.boxplot(df['Values'], vert=False)\n",
    "plt.title('Boxplot of Values')\n",
    "plt.show()\n",
    "\n",
    "# Histogram to visualize distribution\n",
    "plt.figure(figsize=(8, 4))\n",
    "plt.hist(df['Values'], bins=10, edgecolor='black')\n",
    "plt.title('Histogram of Values')\n",
    "plt.xlabel('Values')\n",
    "plt.ylabel('Frequency')\n",
    "plt.show()"
   ]
  },
  {
   "cell_type": "markdown",
   "metadata": {},
   "source": [
    "## Handling Techniques\n",
    "\n",
    "### 1. Removing or Capping Outliers\n",
    "- **Removing Outliers**:\n",
    "  - Outliers can be removed entirely if they are likely due to errors or are not relevant.\n",
    "- **Capping Outliers**:\n",
    "  - Replace extreme values with the nearest acceptable boundary (e.g., upper or lower bound).\n",
    "\n",
    "#### Example:\n"
   ]
  },
  {
   "cell_type": "code",
   "execution_count": null,
   "metadata": {},
   "outputs": [],
   "source": [
    "# Remove outliers\n",
    "df_no_outliers = df[(df['Values'] >= lower_bound) & (df['Values'] <= upper_bound)]\n",
    "print('DataFrame after removing outliers:')\n",
    "print(df_no_outliers)\n",
    "\n",
    "# Cap outliers\n",
    "df['Values'] = np.where(df['Values'] < lower_bound, lower_bound, df['Values'])\n",
    "df['Values'] = np.where(df['Values'] > upper_bound, upper_bound, df['Values'])\n",
    "print('DataFrame after capping outliers:')\n",
    "print(df)"
   ]
  },
  {
   "cell_type": "markdown",
   "metadata": {},
   "source": [
    "### 2. Transforming Data\n",
    "\n",
    "Transformations can reduce the impact of outliers without removing them:\n",
    "- **Logarithmic Scaling**:\n",
    "  - Reduces the influence of large values by compressing the range of data.\n",
    "- **Square Root Transformation**:\n",
    "  - Similar to log scaling but less aggressive.\n",
    "\n",
    "#### Example:\n"
   ]
  },
  {
   "cell_type": "code",
   "execution_count": null,
   "metadata": {},
   "outputs": [],
   "source": [
    "# Logarithmic scaling\n",
    "df['Log_Values'] = np.log(df['Values'] + 1)  # Add 1 to avoid log(0)\n",
    "print('DataFrame after logarithmic scaling:')\n",
    "print(df)\n",
    "\n",
    "# Square root transformation\n",
    "df['Sqrt_Values'] = np.sqrt(df['Values'])\n",
    "print('DataFrame after square root transformation:')\n",
    "print(df)"
   ]
  }
 ],
 "metadata": {
  "kernelspec": {
   "display_name": "SchizoClassification",
   "language": "python",
   "name": "python3"
  },
  "language_info": {
   "codemirror_mode": {
    "name": "ipython",
    "version": 3
   },
   "file_extension": ".py",
   "mimetype": "text/x-python",
   "name": "python",
   "nbconvert_exporter": "python",
   "pygments_lexer": "ipython3",
   "version": "3.10.8"
  }
 },
 "nbformat": 4,
 "nbformat_minor": 2
}
