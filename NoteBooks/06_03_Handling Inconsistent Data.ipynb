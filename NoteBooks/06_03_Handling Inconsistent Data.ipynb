{
 "cells": [
  {
   "cell_type": "markdown",
   "metadata": {},
   "source": [
    "# 4. Handling Inconsistent Data\n",
    "\n",
    "Inconsistent data is a common issue in real-world datasets. It can arise from various sources such as manual data entry errors, different conventions, or merging datasets from multiple sources. Addressing inconsistencies is crucial for ensuring accurate analysis and clean results.\n",
    "\n",
    "## Identifying Inconsistencies\n",
    "Before cleaning, inconsistencies need to be identified. Common examples include:\n",
    "\n",
    "1. **Duplicate Rows**:\n",
    "   - Repeated entries that unnecessarily increase dataset size and can skew analysis.\n",
    "\n",
    "2. **Inconsistent Capitalization**:\n",
    "   - Variations in case (e.g., 'USA', 'usa', 'UsA').\n",
    "\n",
    "3. **Extra Spaces**:\n",
    "   - Leading or trailing spaces in text fields.\n",
    "\n",
    "4. **Mixed Formats**:\n",
    "   - Different representations of the same data, such as dates (e.g., '01/15/2024' vs '2024-01-15') or currencies (e.g., '$1000' vs '1,000 USD').\n",
    "\n",
    "## Cleaning Techniques\n",
    "\n",
    "### 1. Removing Duplicates\n",
    "Duplicate rows are redundant and can lead to incorrect analyses.\n",
    "\n",
    "#### Method: `drop_duplicates()`\n",
    "- Removes duplicate rows from a DataFrame.\n",
    "- Parameters:\n",
    "  - **`keep`**: Specifies which duplicates to retain ('first', 'last', or `False` to remove all).\n",
    "  - **`subset`**: Defines specific columns to check for duplicates.\n",
    "  - **`inplace`**: If `True`, modifies the original DataFrame.\n",
    "\n"
   ]
  },
  {
   "cell_type": "code",
   "execution_count": null,
   "metadata": {},
   "outputs": [],
   "source": [
    "import pandas as pd\n",
    "\n",
    "# Example DataFrame with duplicates\n",
    "data = {\"Name\": ['Alice', 'Bob', 'Alice'], \"Age\": [25, 30, 25], \"City\": ['New York', 'Los Angeles', 'New York']}\n",
    "df = pd.DataFrame(data)\n",
    "print('Original DataFrame:')\n",
    "print(df)\n",
    "\n",
    "# Remove duplicate rows\n",
    "df_cleaned = df.drop_duplicates(keep='first')\n",
    "print('DataFrame after removing duplicates:')\n",
    "print(df_cleaned)"
   ]
  },
  {
   "cell_type": "markdown",
   "metadata": {},
   "source": [
    "### 2. Text Normalization\n",
    "\n",
    "Text fields often contain inconsistencies such as varying capitalization, extra spaces, or misspellings. Normalizing text ensures uniformity.\n",
    "\n",
    "#### Methods:\n",
    "1. **`str.lower()`**: Converts text to lowercase.\n",
    "2. **`str.strip()`**: Removes leading and trailing spaces.\n",
    "3. **`str.replace()`**: Replaces substrings with specified values.\n",
    "\n",
    "#### Example:\n"
   ]
  },
  {
   "cell_type": "code",
   "execution_count": null,
   "metadata": {},
   "outputs": [],
   "source": [
    "# Example DataFrame with inconsistent text\n",
    "data = {\"Name\": [' Alice ', 'BOB', 'Charlie '], \"City\": ['new york', 'Los Angeles ', 'CHICAGO']}\n",
    "df = pd.DataFrame(data)\n",
    "print('Original DataFrame:')\n",
    "print(df)\n",
    "\n",
    "# Normalize text\n",
    "df['Name'] = df['Name'].str.lower().str.strip()\n",
    "df['City'] = df['City'].str.title().str.strip()\n",
    "print('DataFrame after text normalization:')\n",
    "print(df)"
   ]
  },
  {
   "cell_type": "markdown",
   "metadata": {},
   "source": [
    "### 3. Standardizing Formats\n",
    "\n",
    "Different formats for dates, currencies, or other fields can create inconsistencies.\n",
    "\n",
    "#### Techniques:\n",
    "1. **Dates**:\n",
    "   - Use `to_datetime()` to convert strings to datetime objects.\n",
    "   - Specify formats (e.g., `%Y-%m-%d`) to ensure consistency.\n",
    "\n",
    "2. **Currencies**:\n",
    "   - Remove symbols or commas using `str.replace()`.\n",
    "   - Convert cleaned text to numeric using `pd.to_numeric()`.\n",
    "\n",
    "#### Example:\n"
   ]
  },
  {
   "cell_type": "code",
   "execution_count": null,
   "metadata": {},
   "outputs": [],
   "source": [
    "# Example DataFrame with inconsistent formats\n",
    "data = {\"Date\": ['01/15/2024', '2024-01-16', '15-Jan-2024'], \"Price\": ['$1,000', '$2,500', '$3,000']}\n",
    "df = pd.DataFrame(data)\n",
    "print('Original DataFrame:')\n",
    "print(df)\n",
    "\n",
    "# Standardize date format\n",
    "df['Date'] = pd.to_datetime(df['Date'], errors='coerce')\n",
    "# Clean and convert price column\n",
    "df['Price'] = df['Price'].str.replace('[$,]', '', regex=True).astype(float)\n",
    "print('DataFrame after standardizing formats:')\n",
    "print(df)"
   ]
  },
  {
   "cell_type": "markdown",
   "metadata": {},
   "source": [
    "## Summary\n",
    "\n",
    "- **Identify inconsistencies** such as duplicate rows, varying capitalization, and mixed formats.\n",
    "- Use **`drop_duplicates()`** to remove redundant rows.\n",
    "- Normalize text with string methods like **`str.lower()`**, **`str.strip()`**, and **`str.replace()`**.\n",
    "- Standardize formats for dates and numeric fields to ensure consistency.\n",
    "\n",
    "Cleaning inconsistent data is a critical step in preprocessing, leading to reliable and accurate analyses."
   ]
  }
 ],
 "metadata": {
  "language_info": {
   "name": "python"
  }
 },
 "nbformat": 4,
 "nbformat_minor": 2
}
