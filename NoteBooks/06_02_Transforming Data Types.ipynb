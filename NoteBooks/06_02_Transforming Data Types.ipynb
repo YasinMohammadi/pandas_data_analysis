{
 "cells": [
  {
   "cell_type": "markdown",
   "metadata": {},
   "source": [
    "# 3. Transforming Data Types\n",
    "\n",
    "Data type transformation is an essential part of data preprocessing. Incorrect data types can cause errors in analysis and modeling, making it crucial to ensure that each column in your dataset has the correct type.\n",
    "\n",
    "## Identifying Incorrect Data Types\n",
    "\n",
    "### Why Identify Incorrect Data Types?\n",
    "1. **Error Prevention**: Certain operations are only valid for specific data types. For example, mathematical operations require numeric data types.\n",
    "2. **Efficiency**: Correct data types reduce memory usage and increase computational efficiency.\n",
    "3. **Accuracy**: Ensures that downstream analyses and models function as expected.\n",
    "\n",
    "### Methods to Inspect Data Types\n",
    "Pandas provides tools to check the data types of each column:\n",
    "\n",
    "- **`dtypes`**: Displays the data type of each column.\n",
    "- **`info()`**: Provides a concise summary of the DataFrame, including data types and non-null counts.\n",
    "\n"
   ]
  },
  {
   "cell_type": "code",
   "execution_count": null,
   "metadata": {},
   "outputs": [],
   "source": [
    "import pandas as pd\n",
    "\n",
    "# Example DataFrame\n",
    "data = {\"ID\": ['001', '002', '003'], \"Join Date\": ['2021-01-01', '2021-02-15', 'Invalid Date'], \"Salary\": ['50000', '60000', '70000']}\n",
    "df = pd.DataFrame(data)\n",
    "\n",
    "# Inspect data types\n",
    "print('Data types:')\n",
    "print(df.dtypes)\n",
    "\n",
    "# Get a summary of the DataFrame\n",
    "print('DataFrame Info:')\n",
    "print(df.info())"
   ]
  },
  {
   "cell_type": "markdown",
   "metadata": {},
   "source": [
    "## Converting Data Types\n",
    "\n",
    "Transforming columns to appropriate data types ensures the data can be used correctly.\n",
    "\n",
    "### 1. Numerical Data\n",
    "Numeric data is often incorrectly stored as strings, which prevents mathematical operations.\n",
    "\n",
    "#### Methods:\n",
    "1. **`astype()`**: Converts a column to a specific type.\n",
    "2. **`to_numeric()`**: Converts data to numeric, with options to handle errors gracefully.\n",
    "\n",
    "#### Examples:\n"
   ]
  },
  {
   "cell_type": "code",
   "execution_count": null,
   "metadata": {},
   "outputs": [],
   "source": [
    "# Convert ID column to integer\n",
    "df['ID'] = df['ID'].astype(int)\n",
    "print('After converting ID to integer:')\n",
    "print(df.dtypes)\n",
    "\n",
    "# Convert Salary column to numeric\n",
    "df['Salary'] = pd.to_numeric(df['Salary'])\n",
    "print('After converting Salary to numeric:')\n",
    "print(df.dtypes)"
   ]
  },
  {
   "cell_type": "markdown",
   "metadata": {},
   "source": [
    "### 2. Datetime Data\n",
    "\n",
    "Dates and times are often stored as strings, but proper analysis requires converting them to datetime objects.\n",
    "\n",
    "#### Methods:\n",
    "1. **`to_datetime()`**: Converts strings to datetime objects.\n",
    "\n",
    "#### Why Use `to_datetime()`?\n",
    "- Ensures consistency in datetime representation.\n",
    "- Enables efficient comparison, filtering, and time-based calculations.\n",
    "- Handles complex date formats with proper formatting.\n",
    "\n",
    "#### Format Specification:\n",
    "The `format` parameter in `to_datetime()` allows specifying the expected date format for faster and more reliable parsing. Common format codes include:\n",
    "- `%Y`: Year (e.g., 2024)\n",
    "- `%m`: Month (e.g., 01 for January)\n",
    "- `%d`: Day (e.g., 15)\n",
    "- Example: A date like '2024-01-15' has the format `%Y-%m-%d`.\n",
    "\n",
    "#### Error Handling:\n",
    "The `errors` parameter controls how invalid dates are handled:\n",
    "- **`errors='raise'`**: Raises an error for invalid dates (default behavior).\n",
    "- **`errors='coerce'`**: Converts invalid dates to `NaT` (Not a Time).\n",
    "- **`errors='ignore'`**: Leaves invalid dates as-is.\n",
    "\n",
    "#### Examples:\n"
   ]
  },
  {
   "cell_type": "code",
   "execution_count": null,
   "metadata": {},
   "outputs": [],
   "source": [
    "# Convert Join Date to datetime\n",
    "df['Join Date'] = pd.to_datetime(df['Join Date'], format='%Y-%m-%d', errors='coerce')\n",
    "print('After converting Join Date to datetime:')\n",
    "print(df)\n",
    "print(df.dtypes)"
   ]
  },
  {
   "cell_type": "markdown",
   "metadata": {},
   "source": [
    "### 3. Categorical Data\n",
    "\n",
    "Categorical data represents discrete values, such as categories or labels. Converting columns to categorical type can:\n",
    "- Reduce memory usage significantly.\n",
    "- Enable faster computations for certain operations.\n",
    "\n",
    "#### Method:\n",
    "1. **`astype('category')`**: Converts a column to categorical type.\n",
    "\n",
    "#### Examples:\n"
   ]
  },
  {
   "cell_type": "code",
   "execution_count": null,
   "metadata": {},
   "outputs": [],
   "source": [
    "# Convert Name column to category\n",
    "df['Name'] = df['Name'].astype('category')\n",
    "print('After converting Name to category:')\n",
    "print(df.dtypes)\n",
    "print('Memory usage before and after conversion:')\n",
    "print('Before conversion:', df.memory_usage(deep=True))\n",
    "print('After conversion:', df.memory_usage(deep=True))"
   ]
  },
  {
   "cell_type": "markdown",
   "metadata": {},
   "source": [
    "## Memory Optimization through Data Type Conversion\n",
    "\n",
    "Transforming data types not only ensures correctness but can also reduce memory usage.\n",
    "- Converting string columns to `category` can reduce memory usage significantly for columns with a limited number of unique values.\n",
    "- Using appropriate numeric types (e.g., `float32` instead of `float64`) can also save memory.\n",
    "\n",
    "#### Example:\n",
    "- A column of strings with repeated categories (e.g., 'A', 'B', 'C') can be converted to categorical type, which stores values more efficiently.\n",
    "\n",
    "By optimizing data types, you can handle larger datasets and improve processing speed."
   ]
  }
 ],
 "metadata": {
  "language_info": {
   "name": "python"
  }
 },
 "nbformat": 4,
 "nbformat_minor": 2
}
