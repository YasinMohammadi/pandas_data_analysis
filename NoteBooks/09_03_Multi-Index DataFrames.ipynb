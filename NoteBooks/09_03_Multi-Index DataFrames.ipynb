{
    "cells": [
     {
      "cell_type": "markdown",
      "metadata": {},
      "source": [
       "# Working with Multi-Index DataFrames\n\n",
       "Multi-Index DataFrames, also known as hierarchical indexing, allow for more complex data structures with multiple levels of rows or columns. This is particularly useful for representing grouped or hierarchical data.\n\n",
       "## Key Topics\n"
      ]
     },
     {
      "cell_type": "markdown",
      "metadata": {},
      "source": [
       "### Understanding Multi-Index Structures\n\n",
       "A Multi-Index DataFrame has multiple levels of indexing for rows, columns, or both. This enables better organization and analysis of hierarchical data.\n\n",
       "**How to Create a Multi-Index DataFrame:**\n",
       "- Use the `pd.MultiIndex.from_arrays()` or `pd.MultiIndex.from_tuples()` methods to explicitly define hierarchical indices.\n",
       "- Group data using `groupby()` with multiple keys.\n\n",
       "#### Example: Creating a Multi-Index DataFrame\n"
      ]
     },
     {
      "cell_type": "code",
      "metadata": {},
      "source": [
       "import pandas as pd\n\n",
       "# Create a Multi-Index DataFrame\n",
       "multi_index = pd.MultiIndex.from_arrays([\n",
       "    ['Region1', 'Region1', 'Region2', 'Region2'],\n",
       "    ['ProductA', 'ProductB', 'ProductA', 'ProductB']\n",
       "], names=['Region', 'Product'])\n\n",
       "sales_data = pd.DataFrame({\n",
       "    'Sales': [100, 150, 200, 250]\n",
       "}, index=multi_index)\n\n",
       "print(sales_data)"
      ]
     },
     {
      "cell_type": "markdown",
      "metadata": {},
      "source": [
       "### Merging and Concatenating with Multi-Index DataFrames\n\n",
       "Combining datasets with Multi-Index structures requires careful alignment of levels.\n\n",
       "**Key Methods:**\n",
       "- Use `merge()` with `on` or `left_on`/`right_on` for specific levels.\n",
       "- Use `concat()` to combine Multi-Index DataFrames along rows or columns.\n\n",
       "#### Example: Merging Multi-Index DataFrames\n"
      ]
     },
     {
      "cell_type": "code",
      "metadata": {},
      "source": [
       "# Sample datasets with Multi-Index\n",
       "region_sales = pd.DataFrame({\n",
       "    'Revenue': [1000, 1500, 2000, 2500]\n",
       "}, index=multi_index)\n\n",
       "product_details = pd.DataFrame({\n",
       "    'Category': ['Electronics', 'Clothing', 'Electronics', 'Clothing']\n",
       "}, index=multi_index)\n\n",
       "# Merging datasets\n",
       "merged_data = pd.merge(region_sales, product_details, left_index=True, right_index=True)\n",
       "print(merged_data)"
      ]
     },
     {
      "cell_type": "markdown",
      "metadata": {},
      "source": [
       "### Aligning Multi-Level Indices\n\n",
       "Alignment of Multi-Index DataFrames ensures consistent and meaningful operations across levels.\n\n",
       "#### Example: Align and Concatenate Multi-Index DataFrames\n"
      ]
     },
     {
      "cell_type": "code",
      "metadata": {},
      "source": [
       "# Additional sales data for another year\n",
       "sales_2023 = pd.DataFrame({\n",
       "    'Sales': [110, 160, 210, 260]\n",
       "}, index=multi_index)\n\n",
       "# Concatenating data along rows\n",
       "aligned_concat = pd.concat([sales_data, sales_2023], keys=['2022', '2023'], axis=0)\n",
       "print(aligned_concat)"
      ]
     },
     {
      "cell_type": "markdown",
      "metadata": {},
      "source": [
       "# Practical Example: Combining Datasets for Complex Analysis\n\n",
       "In this section, we will apply the learned concepts to a real-world scenario by combining multiple datasets for detailed analysis.\n\n",
       "## Objective\n",
       "Combine sales data with customer and product information to create a comprehensive sales report.\n\n",
       "## Scenario\n",
       "We have the following datasets:\n",
       "- `sales`: Contains sales transactions.\n",
       "- `customers`: Contains customer details.\n",
       "- `products`: Contains product details.\n\n",
       "### Tasks\n",
       "1. Merge sales with customer details.\n",
       "2. Concatenate sales data from multiple months.\n",
       "3. Handle missing values and mismatched indices.\n\n"
      ]
     },
     {
      "cell_type": "code",
      "metadata": {},
      "source": [
       "# Sample datasets\n",
       "sales = pd.DataFrame({\n",
       "    'OrderID': [1, 2, 3],\n",
       "    'CustomerID': [101, 102, 103],\n",
       "    'ProductID': [201, 202, 203],\n",
       "    'Amount': [250, 450, 300]\n",
       "})\n\n",
       "customers = pd.DataFrame({\n",
       "    'CustomerID': [101, 102, 104],\n",
       "    'Name': ['Alice', 'Bob', 'Charlie'],\n",
       "    'Location': ['NY', 'CA', 'TX']\n",
       "})\n\n",
       "products = pd.DataFrame({\n",
       "    'ProductID': [201, 202, 203],\n",
       "    'Category': ['Electronics', 'Clothing', 'Furniture']\n",
       "})\n\n",
       "# Merging sales with customer details\n",
       "sales_customers = pd.merge(sales, customers, on='CustomerID', how='left')\n",
       "print('Sales with Customer Details:')\n",
       "print(sales_customers)"
      ]
     },
     {
      "cell_type": "markdown",
      "metadata": {},
      "source": [
       "### Concatenate Sales Data from Multiple Months\n\n",
       "Combine monthly sales data into a single dataset for analysis.\n"
      ]
     },
     {
      "cell_type": "code",
      "metadata": {},
      "source": [
       "# Monthly sales data\n",
       "sales_jan = pd.DataFrame({\n",
       "    'OrderID': [1, 2],\n",
       "    'Amount': [250, 450]\n",
       "})\n\n",
       "sales_feb = pd.DataFrame({\n",
       "    'OrderID': [3, 4],\n",
       "    'Amount': [300, 500]\n",
       "})\n\n",
       "# Concatenating monthly sales data\n",
       "combined_sales = pd.concat([sales_jan, sales_feb], keys=['January', 'February'], axis=0)\n",
       "print('Combined Monthly Sales:')\n",
       "print(combined_sales)"
      ]
     },
     {
      "cell_type": "markdown",
      "metadata": {},
      "source": [
       "### Handle Missing Values and Mismatched Indices\n\n",
       "Fill missing values and address mismatched indices during the merge or concatenation process.\n"
      ]
     },
     {
      "cell_type": "code",
      "metadata": {},
      "source": [
       "# Merge products with sales and handle missing data\n",
       "sales_products = pd.merge(sales, products, on='ProductID', how='outer')\n",
       "sales_products.fillna({'Category': 'Unknown'}, inplace=True)\n",
       "print('Sales with Product Details (Handled Missing Values):')\n",
       "print(sales_products)"
      ]
     }
    ]
   }
   