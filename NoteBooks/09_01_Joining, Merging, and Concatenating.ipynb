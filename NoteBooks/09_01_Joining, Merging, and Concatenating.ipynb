{
    "cells": [
     {
      "cell_type": "markdown",
      "metadata": {},
      "source": [
       "# 9. Joining, Merging, and Concatenating\n\n",
       "## 1. Introduction to Dataset Combination\n\n",
       "### Objective\n",
       "Combining datasets is a fundamental step in data analysis when working with fragmented, complementary, or diverse data sources. This process helps to:\n",
       "- Bring together related data for comprehensive analysis.\n",
       "- Create enriched datasets for better insights.\n",
       "- Simplify workflows by consolidating data into a single DataFrame.\n\n",
       "### Key Concepts\n\n",
       "#### What are Concatenation and Merging?\n",
       "- **Concatenation**:\n",
       "  - Combines datasets along a particular axis (rows or columns).\n",
       "  - Does not match rows or columns explicitly, so the alignment is purely positional.\n",
       "  - Useful when datasets share a similar structure (e.g., identical columns for rows concatenation or identical indices for column concatenation).\n\n",
       "- **Merging**:\n",
       "  - Combines datasets by aligning rows using one or more keys (columns or indices).\n",
       "  - More flexible and powerful than concatenation, as it matches data based on content.\n",
       "  - Useful for combining datasets with different structures or when keys are critical.\n\n",
       "#### When to Use Concatenation vs. Merging?\n",
       "- **Use Concatenation**:\n",
       "  - Datasets have the same columns (for vertical concatenation) or the same indices (for horizontal concatenation).\n",
       "  - The goal is to extend data by adding rows or columns without complex alignment.\n\n",
       "- **Use Merging**:\n",
       "  - Datasets have shared or complementary keys.\n",
       "  - The goal is to enrich data by combining relevant information based on key relationships.\n\n"
      ]
     },
     {
      "cell_type": "markdown",
      "metadata": {},
      "source": [
       "## 2. Vertical and Horizontal Concatenation\n\n",
       "### Key Topics\n\n",
       "#### 1. Concatenating Rows (Vertical Concatenation)\n",
       "- Adds rows from one or more datasets to another.\n",
       "- Columns must align, meaning all datasets should have the same column names (although `NaN` is used for missing columns if mismatched).\n\n"
      ]
     },
     {
      "cell_type": "code",
      "metadata": {},
      "source": [
       "import pandas as pd\n\n",
       "# Sample monthly sales datasets\n",
       "sales_jan = pd.DataFrame({\n",
       "    'Product': ['A', 'B'],\n",
       "    'Sales': [100, 200]\n",
       "})\n",
       "sales_feb = pd.DataFrame({\n",
       "    'Product': ['A', 'C'],\n",
       "    'Sales': [150, 300]\n",
       "})\n\n",
       "# Vertical concatenation\n",
       "sales_combined = pd.concat([sales_jan, sales_feb], axis=0, ignore_index=True)\n",
       "print(sales_combined)"
      ]
     },
     {
      "cell_type": "markdown",
      "metadata": {},
      "source": [
       "### Additional Examples for Vertical Concatenation\n",
       "1. Concatenating Datasets with Different Columns:\n",
       "```python\n",
       "# Different columns\n",
       "sales_extra = pd.DataFrame({\n",
       "    'Product': ['D'],\n",
       "    'Revenue': [400]\n",
       "})\n",
       "result = pd.concat([sales_combined, sales_extra], axis=0, ignore_index=True)\n",
       "print(result)\n",
       "```\n",
       "2. Adding Hierarchical Keys:\n",
       "```python\n",
       "# Adding keys\n",
       "sales_with_keys = pd.concat([sales_jan, sales_feb], keys=['January', 'February'])\n",
       "print(sales_with_keys)\n",
       "```\n\n"
      ]
     },
     {
      "cell_type": "markdown",
      "metadata": {},
      "source": [
       "#### 2. Concatenating Columns (Horizontal Concatenation)\n",
       "- Adds columns from one or more datasets to another.\n",
       "- Rows must align by index; otherwise, missing values (`NaN`) are used.\n\n"
      ]
     },
     {
      "cell_type": "code",
      "metadata": {},
      "source": [
       "# Sample datasets with matching indices\n",
       "prices = pd.DataFrame({\n",
       "    'Product': ['A', 'B', 'C'],\n",
       "    'Price': [10, 20, 30]\n",
       "})\n",
       "discounts = pd.DataFrame({\n",
       "    'Discount': [0.1, 0.2, 0.15]\n",
       "}, index=[0, 1, 2])\n\n",
       "# Horizontal concatenation\n",
       "sales_with_prices = pd.concat([sales_combined, discounts], axis=1)\n",
       "print(sales_with_prices)"
      ]
     },
     {
      "cell_type": "markdown",
      "metadata": {},
      "source": [
       "### Additional Examples for Horizontal Concatenation\n",
       "1. Adding Columns with Different Indices:\n",
       "```python\n",
       "# Different indices\n",
       "ratings = pd.DataFrame({\n",
       "    'Rating': [4.5, 3.8, 4.9]\n",
       "}, index=[1, 2, 3])\n",
       "combined_with_ratings = pd.concat([prices, ratings], axis=1)\n",
       "print(combined_with_ratings)\n",
       "```\n",
       "2. Adding Metadata with Keys:\n",
       "```python\n",
       "# Adding hierarchical keys\n",
       "merged_with_keys = pd.concat([prices, discounts], axis=1, keys=['Prices', 'Discounts'])\n",
       "print(merged_with_keys)\n",
       "```\n"
      ]
     },
     {
      "cell_type": "markdown",
      "metadata": {},
      "source": [
       "### Handling Indices During Concatenation\n\n",
       "- **`ignore_index`**:\n",
       "  - Resets the index to a continuous integer range after concatenation.\n",
       "  - Use when the original index is not meaningful.\n\n",
       "```python\n",
       "# Example with ignore_index\n",
       "sales_combined_reset = pd.concat([sales_jan, sales_feb], axis=0, ignore_index=True)\n",
       "print(sales_combined_reset)\n",
       "```\n\n",
       "- **`keys`**:\n",
       "  - Adds hierarchical indexing to distinguish data from different sources.\n\n",
       "```python\n",
       "# Example with keys\n",
       "sales_with_keys = pd.concat([sales_jan, sales_feb], axis=0, keys=['January', 'February'])\n",
       "print(sales_with_keys)\n",
       "```\n\n",
       "**Output**:\n",
       "```\n",
       "            Product  Sales\n",
       "January 0       A    100\n",
       "         1       B    200\n",
       "February 0       A    150\n",
       "         1       C    300\n",
       "```\n\n",
       "### Best Practices\n",
       "- Ensure columns or indices align correctly to avoid unintended results.\n",
       "- Use parameters like `ignore_index` and `keys` to control how indices are handled.\n"
      ]
     },
     {
      "cell_type": "markdown",
      "metadata": {},
      "source": [
       "## Examples\n\n",
       "### 1. Combine Monthly Sales Datasets Vertically\n",
       "- Combine sales data from different months into a single dataset.\n\n",
       "```python\n",
       "# Example from above with January and February sales\n",
       "sales_combined = pd.concat([sales_jan, sales_feb], axis=0, ignore_index=True)\n",
       "```\n\n",
       "### 2. Concatenate Datasets with Matching Indices Horizontally\n",
       "- Combine product details (e.g., prices and discounts) into the sales dataset.\n\n",
       "```python\n",
       "sales_with_prices = pd.concat([sales_combined, discounts], axis=1)\n",
       "```\n"
      ]
     }
    ]
   }
   