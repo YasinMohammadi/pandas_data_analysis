{
 "cells": [
  {
   "cell_type": "markdown",
   "metadata": {},
   "source": [
    "# Exploring DataFrames\n",
    "\n",
    "In this notebook, we will learn how to explore and understand the structure of a DataFrame. Exploring a DataFrame is a critical step in the data analysis process to familiarize yourself with the dataset.\n",
    "\n",
    "## Topics Covered:\n",
    "- Methods for initial exploration (`head()`, `info()`, `describe()`)\n",
    "- Understanding data distributions\n",
    "- Shape and size operations\n",
    "- Practical: Exploring a real dataset"
   ]
  },
  {
   "cell_type": "markdown",
   "metadata": {},
   "source": [
    "## Methods for Initial Exploration\n",
    "\n",
    "### 1. Viewing the First Few Rows: `head()`\n",
    "The `head()` method allows you to quickly view the first few rows of a DataFrame, providing a glimpse into its structure. By default, it shows the first 5 rows."
   ]
  },
  {
   "cell_type": "code",
   "execution_count": null,
   "metadata": {},
   "outputs": [],
   "source": [
    "import pandas as pd\n",
    "\n",
    "# Example DataFrame\n",
    "data = {\"Name\": [\"Alice\", \"Bob\", \"Charlie\", \"David\", \"Eva\"], \"Age\": [25, 30, 35, 40, 45], \"City\": [\"New York\", \"Los Angeles\", \"Chicago\", \"Houston\", \"Phoenix\"]}\n",
    "df = pd.DataFrame(data)\n",
    "\n",
    "# Viewing the first few rows\n",
    "print(df.head())"
   ]
  },
  {
   "cell_type": "markdown",
   "metadata": {},
   "source": [
    "### 2. Getting a Summary of the DataFrame: `info()`\n",
    "\n",
    "The `info()` method provides a concise summary of the DataFrame, including:\n",
    "- Column names and data types\n",
    "- Non-null counts\n",
    "- Memory usage"
   ]
  },
  {
   "cell_type": "code",
   "execution_count": null,
   "metadata": {},
   "outputs": [],
   "source": [
    "# Getting a summary of the DataFrame\n",
    "print(df.info())"
   ]
  },
  {
   "cell_type": "markdown",
   "metadata": {},
   "source": [
    "### 3. Descriptive Statistics: `describe()`\n",
    "\n",
    "The `describe()` method provides descriptive statistics for numerical columns, such as:\n",
    "- Mean\n",
    "- Standard deviation\n",
    "- Minimum and maximum values\n",
    "- Percentiles (25th, 50th, 75th)\n",
    "\n",
    "This is a great way to quickly understand the distribution of your data."
   ]
  },
  {
   "cell_type": "code",
   "execution_count": null,
   "metadata": {},
   "outputs": [],
   "source": [
    "# Descriptive statistics\n",
    "print(df.describe())"
   ]
  },
  {
   "cell_type": "markdown",
   "metadata": {},
   "source": [
    "## Understanding Data Distributions\n",
    "\n",
    "Data distribution refers to the way data points are spread across a range of values. Understanding the distribution helps identify patterns, anomalies, and outliers.\n",
    "\n",
    "### Useful Methods:\n",
    "- `value_counts()` for categorical data\n",
    "- Histograms and boxplots for numerical data\n",
    "- Visualization using libraries like Matplotlib or Seaborn"
   ]
  },
  {
   "cell_type": "code",
   "execution_count": null,
   "metadata": {},
   "outputs": [],
   "source": [
    "# Distribution of categorical data\n",
    "print(df['City'].value_counts())\n",
    "\n",
    "# Importing Matplotlib for visualizations\n",
    "import matplotlib.pyplot as plt\n",
    "\n",
    "# Plotting a histogram for numerical data\n",
    "df['Age'].plot(kind='hist', bins=5, title='Age Distribution')\n",
    "plt.xlabel('Age')\n",
    "plt.ylabel('Frequency')\n",
    "plt.show()"
   ]
  },
  {
   "cell_type": "markdown",
   "metadata": {},
   "source": [
    "## Shape and Size Operations\n",
    "\n",
    "Understanding the dimensions of a DataFrame is crucial for handling large datasets.\n",
    "\n",
    "### Methods:\n",
    "- `shape`: Returns the number of rows and columns in the DataFrame.\n",
    "- `len()`: Returns the number of rows.\n",
    "- `size`: Returns the total number of elements in the DataFrame."
   ]
  },
  {
   "cell_type": "code",
   "execution_count": null,
   "metadata": {},
   "outputs": [],
   "source": [
    "# Shape of the DataFrame\n",
    "print('Shape:', df.shape)\n",
    "\n",
    "# Number of rows\n",
    "print('Number of rows:', len(df))\n",
    "\n",
    "# Total number of elements\n",
    "print('Total elements:', df.size)"
   ]
  },
  {
   "cell_type": "markdown",
   "metadata": {},
   "source": [
    "## Practical: Exploring a Real Dataset\n",
    "\n",
    "Let’s apply these methods to a real-world dataset. We will use the COVID-19 dataset from Indonesia to explore its structure and distribution.\n",
    "\n",
    "### Steps:\n",
    "1. Load the dataset.\n",
    "2. Perform initial exploration using `head()`, `info()`, and `describe()`.\n",
    "3. Analyze the distribution of key columns."
   ]
  },
  {
   "cell_type": "code",
   "execution_count": null,
   "metadata": {},
   "outputs": [],
   "source": [
    "# Load the COVID-19 dataset\n",
    "covid_data = pd.read_csv('../DataSets/Data_COVID19_Indonesia.csv')\n",
    "\n",
    "# Initial exploration\n",
    "print(covid_data.head())\n",
    "print(covid_data.info())\n",
    "print(covid_data.describe())\n",
    "\n",
    "# Analyze the distribution of total cases\n",
    "covid_data['Total Cases'].plot(kind='hist', bins=10, title='Total Cases Distribution')\n",
    "plt.xlabel('Total Cases')\n",
    "plt.ylabel('Frequency')\n",
    "plt.show()"
   ]
  }
 ],
 "metadata": {
  "kernelspec": {
   "display_name": "LexLenz",
   "language": "python",
   "name": "python3"
  },
  "language_info": {
   "codemirror_mode": {
    "name": "ipython",
    "version": 3
   },
   "file_extension": ".py",
   "mimetype": "text/x-python",
   "name": "python",
   "nbconvert_exporter": "python",
   "pygments_lexer": "ipython3",
   "version": "3.10.8"
  }
 },
 "nbformat": 4,
 "nbformat_minor": 5
}
