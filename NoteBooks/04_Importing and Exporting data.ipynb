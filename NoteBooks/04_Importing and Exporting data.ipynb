{
 "cells": [
  {
   "cell_type": "markdown",
   "metadata": {},
   "source": [
    "# 4. Importing and Exporting Data\n\n",
    "In this notebook, we will explore how to import data from various sources (CSV, Excel, JSON, SQL, APIs) into Pandas DataFrames and export data to different formats. We will also discuss common errors and how to handle them.\n\n",
    "## Topics Covered:\n",
    "- Reading data from CSV, Excel, JSON, SQL, and APIs\n",
    "- Exporting data to CSV, Excel, and other formats\n",
    "- Handling file paths and common errors\n",
    "- Practical: Reading and saving datasets"
   ]
  },
  {
   "cell_type": "markdown",
   "metadata": {},
   "source": [
    "## Reading Data from CSV\n\n",
    "Comma-Separated Values (CSV) files are one of the most common formats for tabular data.\n",
    "We will use the COVID-19 dataset from Indonesia as an example.\n",
    "\n",
    "### Steps:\n",
    "1. Use the `read_csv` function from Pandas.\n",
    "2. Specify the file path.\n",
    "3. Use parameters like `delimiter`, `header`, and `index_col` as needed."
   ]
  },
  {
   "cell_type": "code",
   "execution_count": null,
   "metadata": {},
   "outputs": [],
   "source": [
    "import pandas as pd\n\n",
    "# Reading data from a CSV file\n",
    "csv_file = '../DataSets/Data_COVID19_Indonesia.csv'\n",
    "try:\n",
    "    covid_data = pd.read_csv(csv_file)\n",
    "    print(covid_data.head())\n",
    "except FileNotFoundError:\n",
    "    print(f'Error: The file {csv_file} does not exist. Please check the file path.')"
   ]
  },
  {
   "cell_type": "markdown",
   "metadata": {},
   "source": [
    "## Reading Data from Excel\n\n",
    "Excel files are often used for sharing structured data. Pandas provides the `read_excel` function to work with Excel files.\n",
    "\n",
    "We will use the IMF Investment and Capital Stock dataset as an example.\n",
    "\n",
    "### Steps:\n",
    "1. Use the `read_excel` function from Pandas.\n",
    "2. Specify the sheet name using the `sheet_name` parameter.\n",
    "3. Check for missing values and column types."
   ]
  },
  {
   "cell_type": "code",
   "execution_count": null,
   "metadata": {},
   "outputs": [],
   "source": [
    "# Reading data from an Excel file\n",
    "excel_file = '../DataSets/IMFInvestmentandCapitalStockDataset2021.xlsx'\n",
    "try:\n",
    "    imf_data = pd.read_excel(excel_file, sheet_name='Datasets')\n",
    "    print(imf_data.head())\n",
    "except FileNotFoundError:\n",
    "    print(f'Error: The file {excel_file} does not exist. Please check the file path.')"
   ]
  },
  {
   "cell_type": "markdown",
   "metadata": {},
   "source": [
    "## Reading Data from JSON\n\n",
    "JSON (JavaScript Object Notation) is widely used for APIs and web data. Pandas can easily handle JSON files using the `read_json` function.\n",
    "\n",
    "We will use a mock signup dataset in JSON format as an example.\n",
    "\n",
    "### Steps:\n",
    "1. Use the `read_json` function from Pandas.\n",
    "2. Specify the file path.\n",
    "3. Use parameters like `orient` for nested JSON files."
   ]
  },
  {
   "cell_type": "code",
   "execution_count": null,
   "metadata": {},
   "outputs": [],
   "source": [
    "# Reading data from a JSON file\n",
    "json_file = '../DataSets/users.JSON'\n",
    "try:\n",
    "    json_data = pd.read_json(json_file)\n",
    "    print(json_data.head())\n",
    "except ValueError:\n",
    "    print(f'Error: Unable to parse JSON file {json_file}. Check the file content.')"
   ]
  },
  {
   "cell_type": "markdown",
   "metadata": {},
   "source": [
    "## Reading Data from SQL\n\n",
    "Structured Query Language (SQL) databases are widely used for storing large datasets. Pandas provides the `read_sql_query` function to query databases.\n",
    "\n",
    "We will use a mock signup dataset stored in an SQL database as an example.\n",
    "\n",
    "### Steps:\n",
    "1. Use the `sqlite3` library to connect to the database.\n",
    "2. Write a SQL query to fetch data.\n",
    "3. Use the `read_sql_query` function to load the data into a Pandas DataFrame."
   ]
  },
  {
   "cell_type": "code",
   "execution_count": null,
   "metadata": {},
   "outputs": [],
   "source": [
    "# Reading data from an SQL database\n",
    "import sqlite3\n\n",
    "# Connect to the database\n",
    "sql_file = '../DataSets/mock_signup.db'\n",
    "try:\n",
    "    connection = sqlite3.connect(sql_file)\n",
    "    sql_query = 'SELECT * FROM mock_signup'\n",
    "    sql_data = pd.read_sql_query(sql_query, connection)\n",
    "    print(sql_data.head())\n",
    "except sqlite3.DatabaseError:\n",
    "    print(f'Error: Unable to connect to the database {sql_file}. Check the file and query.')"
   ]
  },
  {
   "cell_type": "markdown",
   "metadata": {},
   "source": [
    "## Exporting Data to CSV, Excel, and Other Formats\n\n",
    "Pandas makes it easy to export data to different formats using methods like `to_csv` and `to_excel`.\n",
    "\n",
    "### Steps:\n",
    "1. Use the appropriate method based on the desired format.\n",
    "2. Specify the file path and optional parameters like `index`."
   ]
  },
  {
   "cell_type": "code",
   "execution_count": null,
   "metadata": {},
   "outputs": [],
   "source": [
    "# Exporting data to a CSV file\n",
    "output_csv_file = '../tmp/exported_covid_data.csv'\n",
    "covid_data.to_csv(output_csv_file, index=False)\n",
    "print(f'Data exported to {output_csv_file}')\n\n",
    "# Exporting data to an Excel file\n",
    "output_excel_file = '../tmp/exported_imf_data.xlsx'\n",
    "imf_data.to_excel(output_excel_file, index=False)\n",
    "print(f'Data exported to {output_excel_file}')"
   ]
  },
  {
   "cell_type": "markdown",
   "metadata": {},
   "source": [
    "## Handling File Paths and Common Errors\n\n",
    "When working with files, common errors include:\n\n",
    "- **FileNotFoundError**: Ensure the file path is correct. Use absolute paths if needed.\n",
    "- **UnsupportedFormatError**: Verify the file format is supported by Pandas.\n",
    "- **PermissionError**: Check if you have write permissions for the directory when exporting files.\n",
    "- **ValueError**: Ensure the data format matches the expected input for functions."
   ]
  },
  {
   "cell_type": "markdown",
   "metadata": {},
   "source": [
    "## Practical: Reading and Saving Datasets\n\n",
    "Let’s combine all the knowledge to read the COVID dataset, filter data, and export it.\n",
    "\n",
    "### Steps:\n",
    "1. Read the CSV file using `read_csv`.\n",
    "2. Filter rows where the total cases exceed 10,000.\n",
    "3. Export the filtered data to a new CSV file."
   ]
  },
  {
   "cell_type": "code",
   "execution_count": null,
   "metadata": {},
   "outputs": [],
   "source": [
    "# Practical example\n",
    "# Filter COVID data for provinces with more than 10,000 total cases\n",
    "filtered_data = covid_data[covid_data['Total Cases'] > 10000]\n\n",
    "# Export the filtered data to a new CSV file\n",
    "filtered_file = '../tmp/filtered_covid_data.csv'\n",
    "filtered_data.to_csv(filtered_file, index=False)\n",
    "print(f'Filtered data exported successfully to {filtered_file}!')"
   ]
  }
 ],
 "metadata": {
  "kernelspec": {
   "display_name": "LexLenz",
   "language": "python",
   "name": "python3"
  },
  "language_info": {
   "codemirror_mode": {
    "name": "ipython",
    "version": 3
   },
   "file_extension": ".py",
   "mimetype": "text/x-python",
   "name": "python",
   "nbconvert_exporter": "python",
   "pygments_lexer": "ipython3",
   "version": "3.10.8"
  }
 },
 "nbformat": 4,
 "nbformat_minor": 5
}
