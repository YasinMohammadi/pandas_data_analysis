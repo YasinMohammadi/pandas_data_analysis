{
 "cells": [
  {
   "cell_type": "markdown",
   "metadata": {},
   "source": [
    "# 2. Pandas Series: The Foundation\n",
    "\n",
    "In this notebook, we will explore the Pandas Series, a powerful one-dimensional data structure.\n",
    "\n",
    "## Topics Covered:\n",
    "- Understanding Series: 1D labeled array\n",
    "- Creating Series from various sources\n",
    "- Indexing and slicing\n",
    "- Basic operations on Series (math, statistics)\n",
    "- String operations on Series\n",
    "- Practical: Working with Series"
   ]
  },
  {
   "cell_type": "markdown",
   "id": "ee52c0d3",
   "metadata": {},
   "source": [
    "## Understanding Series\n",
    "\n",
    "A **Series** in Pandas is a one-dimensional labeled array that can hold any data type, including integers, floats, strings, and objects.\n",
    "Each element in a Series has an associated index, making it easy to access and manipulate individual elements.\n",
    "\n",
    "### Key Features:\n",
    "- Homogeneous data: All elements in a Series must be of the same type.\n",
    "- Immutable size: The size of a Series cannot be changed once created.\n",
    "- Labeled indices: Each element has a unique label, providing easy access.\n",
    "\n",
    "### When to Use Series:\n",
    "- To represent a single column of data.\n",
    "- To work with labeled 1D data structures.\n",
    "- To perform operations on single-dimensional datasets."
   ]
  },
  {
   "cell_type": "code",
   "execution_count": null,
   "id": "f641c9df",
   "metadata": {},
   "outputs": [],
   "source": [
    "# Importing Pandas\n",
    "import pandas as pd\n",
    "\n",
    "# Example of a Pandas Series\n",
    "data = [5, 10, 15, 20, 25]\n",
    "sales = pd.Series(data, name='Weekly Sales')\n",
    "print(sales)"
   ]
  },
  {
   "cell_type": "markdown",
   "id": "3de3056c",
   "metadata": {},
   "source": [
    "## Creating Series from Various Sources\n",
    "\n",
    "You can create a Series from different data sources, such as lists, dictionaries, and NumPy arrays.\n",
    "Let’s explore these options one by one."
   ]
  },
  {
   "cell_type": "markdown",
   "id": "6923762b",
   "metadata": {},
   "source": [
    "### Creating a Series from a List\n",
    "\n",
    "When creating a Series from a list, Pandas assigns default integer indices (0, 1, 2, etc.) if no index is provided."
   ]
  },
  {
   "cell_type": "code",
   "execution_count": null,
   "id": "cca17282",
   "metadata": {},
   "outputs": [],
   "source": [
    "# Creating a Series from a list\n",
    "prices = [1.99, 2.49, 3.50, 0.99]\n",
    "price_series = pd.Series(prices, name='Item Prices')\n",
    "print(price_series)"
   ]
  },
  {
   "cell_type": "markdown",
   "id": "0d29490a",
   "metadata": {},
   "source": [
    "### Creating a Series from a Dictionary\n",
    "\n",
    "When creating a Series from a dictionary, the keys become the index, and the values become the data."
   ]
  },
  {
   "cell_type": "code",
   "execution_count": null,
   "id": "c7b3063b",
   "metadata": {},
   "outputs": [],
   "source": [
    "# Creating a Series from a dictionary\n",
    "fruit_prices = {\"apple\": 1.2, \"banana\": 0.5, \"cherry\": 2.5}\n",
    "fruit_series = pd.Series(fruit_prices, name='Fruit Prices')\n",
    "print(fruit_series)"
   ]
  },
  {
   "cell_type": "markdown",
   "id": "c033ee46",
   "metadata": {},
   "source": [
    "### Creating a Series with a Custom Index\n",
    "\n",
    "Custom indices make data more meaningful by allowing you to label elements with descriptive names."
   ]
  },
  {
   "cell_type": "code",
   "execution_count": null,
   "id": "0c5e3ee8",
   "metadata": {},
   "outputs": [],
   "source": [
    "# Creating a Series with a custom index\n",
    "daily_temperatures = [68, 70, 75, 72, 66]\n",
    "days = ['Monday', 'Tuesday', 'Wednesday', 'Thursday', 'Friday']\n",
    "temperature_series = pd.Series(daily_temperatures, index=days, name='Daily Temperatures')\n",
    "print(temperature_series)"
   ]
  },
  {
   "cell_type": "markdown",
   "id": "490640a5",
   "metadata": {},
   "source": [
    "## Indexing and Slicing\n",
    "\n",
    "Accessing elements in a Series is intuitive and can be done using either labels or positions.\n",
    "\n",
    "### Types of Indexing:\n",
    "1. **Position-based indexing:** Access elements using their numerical position.\n",
    "2. **Label-based indexing:** Access elements using their index labels.\n",
    "3. **Slicing:** Extract a range of elements."
   ]
  },
  {
   "cell_type": "code",
   "execution_count": null,
   "id": "464fa6e3",
   "metadata": {},
   "outputs": [],
   "source": [
    "# Accessing elements by position\n",
    "print(temperature_series[0])\n",
    "\n",
    "# Accessing elements by label\n",
    "print(temperature_series['Monday'])\n",
    "\n",
    "# Slicing by position\n",
    "print(temperature_series[1:4])\n",
    "\n",
    "# Slicing by labels\n",
    "print(temperature_series['Tuesday':'Thursday'])"
   ]
  },
  {
   "cell_type": "markdown",
   "id": "28db91e2",
   "metadata": {},
   "source": [
    "## Basic Operations on Series\n",
    "\n",
    "You can perform mathematical and statistical operations directly on Series.\n",
    "\n",
    "### Examples:\n",
    "- Adding a value to all elements.\n",
    "- Multiplying all elements by a factor.\n",
    "- Calculating statistical properties such as mean and sum."
   ]
  },
  {
   "cell_type": "code",
   "execution_count": null,
   "id": "cd1856b4",
   "metadata": {},
   "outputs": [],
   "source": [
    "# Mathematical operations\n",
    "print(temperature_series + 5)  # Increase all temperatures by 5\n",
    "print(temperature_series * 2)  # Double all temperatures\n",
    "\n",
    "# Statistical operations\n",
    "print('Average Temperature:', temperature_series.mean())\n",
    "print('Maximum Temperature:', temperature_series.max())\n",
    "print('Minimum Temperature:', temperature_series.min())"
   ]
  },
  {
   "cell_type": "markdown",
   "id": "bb25dd5f",
   "metadata": {},
   "source": [
    "## String Operations on Series\n",
    "\n",
    "Pandas provides a variety of string methods for Series containing string data.\n",
    "\n",
    "### Examples:\n",
    "- Converting strings to uppercase or lowercase.\n",
    "- Checking for substrings.\n",
    "- Replacing parts of strings."
   ]
  },
  {
   "cell_type": "code",
   "execution_count": null,
   "id": "9daa1036",
   "metadata": {},
   "outputs": [],
   "source": [
    "# String operations\n",
    "cities = pd.Series(['New York', 'Los Angeles', 'Chicago', 'Houston', 'Phoenix'], name='Cities')\n",
    "print(cities.str.upper())\n",
    "print(cities.str.contains('o'))\n",
    "print(cities.str.replace(' ', '_'))"
   ]
  },
  {
   "cell_type": "markdown",
   "id": "048e1925",
   "metadata": {},
   "source": [
    "## Practical: Working with Series\n",
    "\n",
    "Let’s create a Series representing a student’s grades over a semester and perform operations.\n",
    "\n",
    "### Task:\n",
    "1. Create a Series for grades with subjects as indices.\n",
    "2. Calculate the average grade.\n",
    "3. Identify subjects with grades above 90."
   ]
  },
  {
   "cell_type": "code",
   "execution_count": null,
   "id": "98fbe1ce",
   "metadata": {},
   "outputs": [],
   "source": [
    "# Creating a Series for semester grades\n",
    "grades = pd.Series([88, 92, 79, 85, 94], index=['Math', 'Science', 'History', 'English', 'Art'], name='Semester Grades')\n",
    "print(grades)\n",
    "\n",
    "# Calculate the average grade\n",
    "print('Average Grade:', grades.mean())\n",
    "\n",
    "# Identify subjects with grades above 90\n",
    "print('Subjects with Grades Above 90:')\n",
    "print(grades[grades > 90])"
   ]
  }
 ],
 "metadata": {
  "kernelspec": {
   "display_name": "Python 3",
   "language": "python",
   "name": "python3"
  },
  "language_info": {
   "codemirror_mode": {
    "name": "ipython",
    "version": 3
   },
   "file_extension": ".py",
   "mimetype": "text/x-python",
   "name": "python",
   "nbconvert_exporter": "python",
   "pygments_lexer": "ipython3",
   "version": "3.9.7"
  }
 },
 "nbformat": 4,
 "nbformat_minor": 5
}
