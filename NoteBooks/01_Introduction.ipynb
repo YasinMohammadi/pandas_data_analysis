{
 "cells": [
  {
   "cell_type": "markdown",
   "id": "1886df8d",
   "metadata": {},
   "source": [
    "# 1. Introduction to Pandas\n",
    "\n",
    "In this notebook, we will introduce you to Pandas, a powerful library for data manipulation and analysis in Python.\n",
    "\n",
    "## Topics Covered:\n",
    "- What is Pandas?\n",
    "- Installation and setup\n",
    "- Importing Pandas and basic commands\n",
    "- Overview of Series and DataFrame\n",
    "- The importance of Pandas in data analysis\n",
    "- Practical: Creating your first Series and DataFrame"
   ]
  },
  {
   "cell_type": "markdown",
   "id": "d1e393ca",
   "metadata": {},
   "source": [
    "## What is Pandas?\n",
    "\n",
    "Pandas is an open-source Python library used for data manipulation and analysis. It provides:\n",
    "\n",
    "- Easy-to-use data structures like **Series** (1D) and **DataFrame** (2D).\n",
    "- Powerful tools for reading/writing data, cleaning, and reshaping.\n",
    "- Functions for analyzing and aggregating data efficiently.\n",
    "\n",
    "Pandas is built on top of NumPy and integrates seamlessly with other libraries like Matplotlib and Scikit-learn."
   ]
  },
  {
   "cell_type": "markdown",
   "id": "381aa5b8",
   "metadata": {},
   "source": [
    "## Installation and Setup\n",
    "\n",
    "Install Pandas using pip:\n",
    "\n",
    "```bash\n",
    "pip install pandas\n",
    "```\n",
    "\n",
    "Or install it using conda:\n",
    "\n",
    "```bash\n",
    "conda install pandas\n",
    "```\n",
    "\n",
    "To ensure you have the latest version of Pandas, use:\n",
    "\n",
    "```bash\n",
    "pip install --upgrade pandas\n",
    "```\n"
   ]
  },
  {
   "cell_type": "code",
   "execution_count": 1,
   "id": "891550f7",
   "metadata": {},
   "outputs": [],
   "source": [
    "# Importing Pandas\n",
    "import pandas as pd\n",
    "\n",
    "# Checking the version of Pandas\n",
    "print(pd.__version__)"
   ]
  },
  {
   "cell_type": "markdown",
   "id": "0bd1cfce",
   "metadata": {},
   "source": [
    "## Overview of Series and DataFrame\n",
    "\n",
    "Pandas provides two key data structures:\n",
    "\n",
    "- **Series**: A one-dimensional labeled array, similar to a column in Excel.\n",
    "- **DataFrame**: A two-dimensional labeled data structure, similar to a table in Excel.\n",
    "\n",
    "### Series Example"
   ]
  },
  {
   "cell_type": "code",
   "execution_count": 2,
   "id": "3844d6c6",
   "metadata": {},
   "outputs": [],
   "source": [
    "# Creating a Pandas Series\n",
    "data = [10, 20, 30, 40, 50]\n",
    "series = pd.Series(data, name=\"Example Series\")\n",
    "print(series)"
   ]
  },
  {
   "cell_type": "markdown",
   "id": "6f3d6493",
   "metadata": {},
   "source": [
    "### DataFrame Example"
   ]
  },
  {
   "cell_type": "code",
   "execution_count": 3,
   "id": "e4ef9c92",
   "metadata": {},
   "outputs": [],
   "source": [
    "# Creating a Pandas DataFrame\n",
    "data = {\n",
    "    \"Name\": [\"Alice\", \"Bob\", \"Charlie\"],\n",
    "    \"Age\": [25, 30, 35],\n",
    "    \"City\": [\"New York\", \"Los Angeles\", \"Chicago\"]\n",
    "}\n",
    "df = pd.DataFrame(data)\n",
    "print(df)"
   ]
  },
  {
   "cell_type": "markdown",
   "id": "c3939dd6",
   "metadata": {},
   "source": [
    "## The Importance of Pandas in Data Analysis\n",
    "\n",
    "Pandas simplifies data analysis by providing:\n",
    "\n",
    "- Easy data manipulation with powerful methods.\n",
    "- Seamless integration with other Python libraries.\n",
    "- Functions for handling missing data, reshaping, and filtering.\n",
    "\n",
    "### Key Features:\n",
    "- Efficiently handles large datasets.\n",
    "- Works with various file formats (CSV, Excel, JSON, etc.).\n",
    "- Intuitive API for data cleaning, transformation, and visualization."
   ]
  },
  {
   "cell_type": "markdown",
   "id": "7c42004c",
   "metadata": {},
   "source": [
    "## Practical: Creating Your First Series and DataFrame"
   ]
  },
  {
   "cell_type": "code",
   "execution_count": 4,
   "id": "87438d53",
   "metadata": {},
   "outputs": [],
   "source": [
    "# Task: Create a Series representing sales data\n",
    "sales_data = [200, 300, 400, 500, 600]\n",
    "sales_series = pd.Series(sales_data, name=\"Sales\")\n",
    "print(sales_series)"
   ]
  },
  {
   "cell_type": "code",
   "execution_count": 5,
   "id": "14f4ed6f",
   "metadata": {},
   "outputs": [],
   "source": [
    "# Task: Create a DataFrame for employee details\n",
    "employee_data = {\n",
    "    \"Employee\": [\"John\", \"Jane\", \"Mike\"],\n",
    "    \"Department\": [\"HR\", \"Finance\", \"IT\"],\n",
    "    \"Salary\": [50000, 60000, 55000]\n",
    "}\n",
    "employee_df = pd.DataFrame(employee_data)\n",
    "print(employee_df)"
   ]
  }
 ],
 "metadata": {
  "kernelspec": {
   "display_name": "Python 3",
   "language": "python",
   "name": "python3"
  },
  "language_info": {
   "codemirror_mode": {
    "name": "ipython",
    "version": 3
   },
   "file_extension": ".py",
   "mimetype": "text/x-python",
   "name": "python",
   "nbconvert_exporter": "python",
   "pygments_lexer": "ipython3",
   "version": "3.9.7"
  }
 },
 "nbformat": 4,
 "nbformat_minor": 5
}
