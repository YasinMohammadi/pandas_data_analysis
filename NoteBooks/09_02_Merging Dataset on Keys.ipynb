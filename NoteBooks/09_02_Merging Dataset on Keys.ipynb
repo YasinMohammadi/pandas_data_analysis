{
    "cells": [
     {
      "cell_type": "markdown",
      "metadata": {},
      "source": [
       "# Merging Datasets on Keys\n\n",
       "Merging datasets allows us to combine information from multiple DataFrames based on one or more keys. This operation is especially useful when working with relational data, such as combining orders with customer details or sales with product information.\n\n",
       "## Key Topics\n"
      ]
     },
     {
      "cell_type": "markdown",
      "metadata": {},
      "source": [
       "### 1. Overview of Merge Operations\n\n",
       "The `merge()` function in Pandas is used to combine datasets based on keys (columns or indices). It provides flexibility to specify:\n",
       "- The type of join to perform (e.g., inner, outer, left, right).\n",
       "- Which columns to use as keys.\n",
       "- Handling overlapping column names with suffixes.\n\n",
       "Key Parameters:\n",
       "- `on`: Specify the column(s) to join on.\n",
       "- `left_on`, `right_on`: Use when the keys have different names in the two DataFrames.\n",
       "- `how`: Specify the type of join ('inner', 'outer', 'left', 'right').\n",
       "- `suffixes`: Control suffixes for overlapping column names.\n"
      ]
     },
     {
      "cell_type": "markdown",
      "metadata": {},
      "source": [
       "### 2. Types of Joins and Their Use Cases\n\n",
       "- **Inner Join**: Keeps only the rows that have matching keys in both DataFrames. Use when you need the intersection of the datasets.\n",
       "- **Outer Join**: Includes all rows from both DataFrames, filling missing values with `NaN` for unmatched keys. Use for a full outer merge.\n",
       "- **Left Join**: Keeps all rows from the left DataFrame and matches rows from the right DataFrame where keys align. Use when you need to retain all data from the left DataFrame.\n",
       "- **Right Join**: Keeps all rows from the right DataFrame and matches rows from the left DataFrame where keys align. Use when you need to retain all data from the right DataFrame.\n\n"
      ]
     },
     {
      "cell_type": "markdown",
      "metadata": {},
      "source": [
       "### 3. Merging on a Single Key vs. Multiple Keys\n\n",
       "- **Single Key**: Join on a single column present in both DataFrames.\n",
       "- **Multiple Keys**: Join on a combination of multiple columns when the relationship between DataFrames depends on more than one attribute.\n"
      ]
     },
     {
      "cell_type": "code",
      "metadata": {},
      "source": [
       "import pandas as pd\n\n",
       "# Sample datasets\n",
       "orders = pd.DataFrame({\n",
       "    'OrderID': [1, 2, 3],\n",
       "    'CustomerID': [101, 102, 103],\n",
       "    'Amount': [250, 450, 300]\n",
       "})\n\n",
       "customers = pd.DataFrame({\n",
       "    'CustomerID': [101, 102, 104],\n",
       "    'Name': ['Alice', 'Bob', 'Charlie'],\n",
       "    'Location': ['NY', 'CA', 'TX']\n",
       "})\n\n",
       "print('Orders DataFrame:')\n",
       "print(orders)\n",
       "print('\\nCustomers DataFrame:')\n",
       "print(customers)"
      ]
     },
     {
      "cell_type": "markdown",
      "metadata": {},
      "source": [
       "### Example 1: Inner Join\n\n",
       "An inner join combines rows where the keys match in both DataFrames.\n"
      ]
     },
     {
      "cell_type": "code",
      "metadata": {},
      "source": [
       "# Inner join on CustomerID\n",
       "inner_join = pd.merge(orders, customers, on='CustomerID', how='inner')\n",
       "print('Inner Join:')\n",
       "print(inner_join)"
      ]
     },
     {
      "cell_type": "markdown",
      "metadata": {},
      "source": [
       "### Example 2: Outer Join\n\n",
       "An outer join includes all rows from both DataFrames and fills missing values with `NaN` for unmatched keys.\n"
      ]
     },
     {
      "cell_type": "code",
      "metadata": {},
      "source": [
       "# Outer join on CustomerID\n",
       "outer_join = pd.merge(orders, customers, on='CustomerID', how='outer')\n",
       "print('Outer Join:')\n",
       "print(outer_join)"
      ]
     },
     {
      "cell_type": "markdown",
      "metadata": {},
      "source": [
       "### Example 3: Left Join\n\n",
       "A left join keeps all rows from the left DataFrame and matches rows from the right DataFrame where keys align.\n"
      ]
     },
     {
      "cell_type": "code",
      "metadata": {},
      "source": [
       "# Left join on CustomerID\n",
       "left_join = pd.merge(orders, customers, on='CustomerID', how='left')\n",
       "print('Left Join:')\n",
       "print(left_join)"
      ]
     },
     {
      "cell_type": "markdown",
      "metadata": {},
      "source": [
       "### Example 4: Merging on Multiple Keys\n\n",
       "When the relationship depends on more than one column, use multiple keys for merging.\n\n",
       "For demonstration, let's extend the `orders` and `customers` datasets:\n"
      ]
     },
     {
      "cell_type": "code",
      "metadata": {},
      "source": [
       "# Extending datasets for multiple key example\n",
       "orders_extended = pd.DataFrame({\n",
       "    'OrderID': [1, 2, 3],\n",
       "    'CustomerID': [101, 102, 103],\n",
       "    'Amount': [250, 450, 300],\n",
       "    'Location': ['NY', 'CA', 'CA']\n",
       "})\n\n",
       "customers_extended = pd.DataFrame({\n",
       "    'CustomerID': [101, 102, 103],\n",
       "    'Name': ['Alice', 'Bob', 'Charlie'],\n",
       "    'Location': ['NY', 'CA', 'TX']\n",
       "})\n\n",
       "# Merging on multiple keys\n",
       "multi_key_merge = pd.merge(orders_extended, customers_extended, on=['CustomerID', 'Location'], how='inner')\n",
       "print('Multiple Key Merge:')\n",
       "print(multi_key_merge)"
      ]
     },
     {
      "cell_type": "markdown",
      "metadata": {},
      "source": [
       "### Best Practices for Merging\n\n",
       "- Always inspect datasets before merging to ensure keys align properly.\n",
       "- Use `suffixes` to handle overlapping column names.\n",
       "- Specify `validate` parameter to confirm the merge operation type (e.g., '1:1', '1:m', 'm:m').\n",
       "- Handle missing values in keys to avoid unintended `NaN` results.\n"
      ]
     }
    ]
   }
   