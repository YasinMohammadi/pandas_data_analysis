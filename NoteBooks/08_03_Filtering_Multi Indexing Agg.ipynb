{
 "cells": [
  {
   "cell_type": "markdown",
   "metadata": {},
   "source": [
    "# 6. Filtering Groups\n",
    "\n",
    "Filtering groups allows you to retain or drop groups based on conditions applied to group-level computations. This technique is especially useful for narrowing down data to relevant groups.\n",
    "\n",
    "## Using `.filter()` to Retain Only Specific Groups Based on a Condition\n",
    "The `.filter()` method enables you to evaluate each group and decide whether to retain or exclude it based on a condition.\n",
    "\n"
   ]
  },
  {
   "cell_type": "code",
   "execution_count": null,
   "metadata": {},
   "outputs": [],
   "source": [
    "import pandas as pd\n",
    "# Load the COVID-19 dataset\n",
    "data_path = '../DataSets/Data_COVID19_Indonesia.csv'\n",
    "covid_data = pd.read_csv(data_path)\n",
    "\n",
    "# Retain groups with mean Total Cases above a threshold\n",
    "filtered_groups = covid_data.groupby('Location').filter(lambda x: x['Total Cases'].mean() > 10000)\n",
    "print('Filtered Groups with Mean Total Cases > 10000:')\n",
    "print(filtered_groups.head())"
   ]
  },
  {
   "cell_type": "markdown",
   "metadata": {},
   "source": [
    "## Drop Groups with Fewer than a Specific Number of Entries\n",
    "You can filter groups by their size using `.filter()`. For instance, dropping groups with fewer than 5 entries.\n",
    "\n"
   ]
  },
  {
   "cell_type": "code",
   "execution_count": null,
   "metadata": {},
   "outputs": [],
   "source": [
    "# Drop groups with fewer than 5 entries\n",
    "large_groups = covid_data.groupby('Location').filter(lambda x: len(x) >= 5)\n",
    "print('Groups with 5 or More Entries:')\n",
    "print(large_groups.head())"
   ]
  },
  {
   "cell_type": "markdown",
   "metadata": {},
   "source": [
    "# 7. Aggregation on Multi-Index DataFrames\n",
    "\n",
    "Multi-index DataFrames allow hierarchical grouping and advanced aggregation techniques.\n",
    "\n",
    "## Grouping and Aggregating on Hierarchical Indices\n",
    "You can perform grouping and aggregation on hierarchical indices created by grouping multiple columns.\n",
    "\n"
   ]
  },
  {
   "cell_type": "code",
   "execution_count": null,
   "metadata": {},
   "outputs": [],
   "source": [
    "# Group by Location and Date to create a multi-index DataFrame\n",
    "multi_index_group = covid_data.groupby(['Location', 'Date'])['New Cases'].sum()\n",
    "print('Multi-Index Grouping:')\n",
    "print(multi_index_group.head())"
   ]
  },
  {
   "cell_type": "markdown",
   "metadata": {},
   "source": [
    "## Cross-Sections of Grouped Data Using `IndexSlice`\n",
    "The `IndexSlice` feature enables slicing and querying specific levels of multi-index data efficiently.\n",
    "\n"
   ]
  },
  {
   "cell_type": "code",
   "execution_count": null,
   "metadata": {},
   "outputs": [],
   "source": [
    "# Accessing data for a specific Location and Date\n",
    "idx = pd.IndexSlice\n",
    "specific_group = multi_index_group.loc[idx['Jakarta', '2021-08-01']]\n",
    "print('Specific Group Data:')\n",
    "print(specific_group)"
   ]
  },
  {
   "cell_type": "markdown",
   "metadata": {},
   "source": [
    "# 8. Practical: Aggregating Large Datasets\n",
    "\n",
    "In this practical example, we will apply the learned concepts to aggregate a large dataset and perform meaningful analysis.\n",
    "\n",
    "## Example Task 1: Total Revenue and Average Profit Margin by Region and Product Category\n"
   ]
  },
  {
   "cell_type": "code",
   "execution_count": null,
   "metadata": {},
   "outputs": [],
   "source": [
    "# Example dataset for sales data\n",
    "sales_data = pd.DataFrame({\n",
    "    'Region': ['North', 'South', 'East', 'North', 'East'],\n",
    "    'Product Category': ['A', 'B', 'A', 'C', 'B'],\n",
    "    'Revenue': [2000, 3000, 1500, 4000, 2500],\n",
    "    'Profit Margin': [0.2, 0.25, 0.15, 0.3, 0.18]    \n",
    "    })\n",
    "\n",
    "\n",
    "\n",
    "# Group by Region and Product Category\n",
    "revenue_profit = sales_data.groupby(['Region', 'Product Category']).agg({\n",
    "    'Revenue': 'sum',\n",
    "    'Profit Margin': 'mean'\n",
    "    })\n",
    "print('Total Revenue and Average Profit Margin:')\n",
    "print(revenue_profit)"
   ]
  },
  {
   "cell_type": "markdown",
   "metadata": {},
   "source": [
    "## Example Task 2: Percentage Growth in Revenue Year-Over-Year by Region\n"
   ]
  },
  {
   "cell_type": "code",
   "execution_count": null,
   "metadata": {},
   "outputs": [],
   "source": [
    "# Example dataset for revenue growth\n",
    "\n",
    "revenue_data = pd.DataFrame({\n",
    "    'Region': ['North', 'North', 'South', 'South'],\n",
    "    'Year': [2020, 2021, 2020, 2021],\n",
    "    'Revenue': [5000, 6000, 4000, 4500]\n",
    "})\n",
    "\n",
    "# Calculate percentage growth\n",
    "revenue_data['Growth'] = revenue_data.groupby('Region')['Revenue'].pct_change() * 100\n",
    "print('Revenue Growth Year-Over-Year:')\n",
    "print(revenue_data)"
   ]
  },
  {
   "cell_type": "markdown",
   "metadata": {},
   "source": [
    "## Conclusion\n",
    "\n",
    "By mastering filtering groups, aggregating multi-index DataFrames, and practical applications, you can derive detailed insights from complex datasets and handle large-scale data analysis efficiently."
   ]
  }
 ],
 "metadata": {
  "language_info": {
   "name": "python"
  }
 },
 "nbformat": 4,
 "nbformat_minor": 2
}
