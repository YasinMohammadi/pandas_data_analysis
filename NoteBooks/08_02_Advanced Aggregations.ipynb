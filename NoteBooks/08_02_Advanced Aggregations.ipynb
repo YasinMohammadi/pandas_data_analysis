{
    "cells": [
     {
      "cell_type": "markdown",
      "metadata": {},
      "source": [
       "# 4. Advanced Aggregations\n\n",
       "Advanced aggregations in Pandas allow for flexibility and detailed analysis by applying multiple aggregations, custom functions, and group-specific logic.\n\n",
       "Both `.agg()` and `.aggregate()` methods can be used for this purpose, and they are interchangeable. However, `.agg()` is more concise and is preferred in practice.\n\n",
       "## Performing Multiple Aggregations Simultaneously Using `.agg()`\n\n",
       "The `.agg()` method enables you to apply multiple aggregations to grouped data, such as calculating the mean, sum, and count in a single step.\n\n"
      ]
     },
     {
      "cell_type": "code",
      "metadata": {},
      "source": [
       "import pandas as pd\n",
       "# Load the COVID-19 dataset\n",
       "data_path = '../DataSets/Data_COVID19_Indonesia.csv'\n",
       "covid_data = pd.read_csv(data_path)\n",
       "print('Dataset Preview:')\n",
       "print(covid_data.head())\n\n",
       "# Group by Location and apply multiple aggregations\n",
       "multi_agg = covid_data.groupby('Location')['New Cases'].agg(['mean', 'sum', 'count'])\n",
       "print('Multiple Aggregations:')\n",
       "print(multi_agg)"
      ]
     },
     {
      "cell_type": "markdown",
      "metadata": {},
      "source": [
       "## Passing a Dictionary to `.agg()` to Apply Different Aggregations to Different Columns\n\n",
       "You can specify a dictionary of column names and aggregation functions to customize aggregations for different columns.\n\n"
      ]
     },
     {
      "cell_type": "code",
      "metadata": {},
      "source": [
       "# Apply different aggregations to different columns\n",
       "custom_agg = covid_data.groupby('Location').agg({\n",
       "    'New Cases': 'mean',\n",
       "    'Total Cases': 'sum',\n",
       "    'New Deaths': 'max'\n",
       "})\n",
       "print('Custom Aggregations:')\n",
       "print(custom_agg)"
      ]
     },
     {
      "cell_type": "markdown",
      "metadata": {},
      "source": [
       "## Using Custom Aggregation Functions\n\n",
       "Custom functions provide flexibility for performing unique or specialized aggregations, such as calculating the range of a column (max - min). These can be applied within `.agg()` or `.aggregate()` methods.\n\n"
      ]
     },
     {
      "cell_type": "code",
      "metadata": {},
      "source": [
       "# Define a custom aggregation function\n",
       "def range_agg(series):\n",
       "    return series.max() - series.min()\n\n",
       "# Apply the custom aggregation\n",
       "custom_range = covid_data.groupby('Location')['New Cases'].agg(range_agg)\n",
       "print('Custom Range Aggregation:')\n",
       "print(custom_range)"
      ]
     },
     {
      "cell_type": "markdown",
      "metadata": {},
      "source": [
       "## Practical Examples\n",
       "### Calculate Mean and Standard Deviation of Numerical Columns for Each Group\n"
      ]
     },
     {
      "cell_type": "code",
      "metadata": {},
      "source": [
       "# Calculate mean and standard deviation for numerical columns\n",
       "stats_agg = covid_data.groupby('Location').agg({\n",
       "    'New Cases': ['mean', 'std'],\n",
       "    'New Deaths': ['mean', 'std']\n",
       "})\n",
       "print('Mean and Standard Deviation Aggregations:')\n",
       "print(stats_agg)"
      ]
     },
     {
      "cell_type": "markdown",
      "metadata": {},
      "source": [
       "### Define a Custom Aggregation to Calculate the Range of a Column (Max - Min)\n"
      ]
     },
     {
      "cell_type": "code",
      "metadata": {},
      "source": [
       "# Using the previously defined custom function\n",
       "range_agg = covid_data.groupby('Location').agg({\n",
       "    'Total Cases': range_agg\n",
       "})\n",
       "print('Range Aggregation:')\n",
       "print(range_agg)"
      ]
     },
     {
      "cell_type": "markdown",
      "metadata": {},
      "source": [
       "# 5. Transforming Grouped Data\n\n",
       "Transformations enable group-specific computations while retaining the original DataFrame structure.\n\n",
       "## Using `.transform()` to Perform Group-Wise Operations\n",
       "The `.transform()` method applies a function to each group and returns a Series with the same shape as the original DataFrame.\n\n"
      ]
     },
     {
      "cell_type": "code",
      "metadata": {},
      "source": [
       "# Normalize each group's New Cases\n",
       "covid_data['Normalized Cases'] = covid_data.groupby('Location')['New Cases'].transform(lambda x: (x - x.mean()) / x.std())\n",
       "print('Data with Normalized Cases:')\n",
       "print(covid_data[['Location', 'New Cases', 'Normalized Cases']].head())"
      ]
     },
     {
      "cell_type": "markdown",
      "metadata": {},
      "source": [
       "### Calculate Percentage Contribution of Each Item Within Its Group\n"
      ]
     },
     {
      "cell_type": "code",
      "metadata": {},
      "source": [
       "# Calculate percentage contribution of New Cases within each Location\n",
       "covid_data['Case Percentage'] = covid_data.groupby('Location')['New Cases'].transform(lambda x: x / x.sum() * 100)\n",
       "print('Data with Case Percentage:')\n",
       "print(covid_data[['Location', 'New Cases', 'Case Percentage']].head())"
      ]
     },
     {
      "cell_type": "markdown",
      "metadata": {},
      "source": [
       "## Conclusion\n\n",
       "Advanced aggregations and transformations provide powerful tools for group-wise analysis. Using `.agg()`, `.aggregate()`, custom functions, and `.transform()`, you can derive deeper insights and perform complex computations efficiently."
      ]
     }
    ]
   }
   