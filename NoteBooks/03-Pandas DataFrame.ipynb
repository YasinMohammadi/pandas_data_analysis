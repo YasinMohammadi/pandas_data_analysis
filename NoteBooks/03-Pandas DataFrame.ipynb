{
 "cells": [
  {
   "cell_type": "markdown",
   "metadata": {},
   "source": [
    "# Pandas DataFrame: The Core\n\n",
    "In this notebook, we will explore Pandas DataFrame, a versatile 2D labeled data structure.\n\n",
    "## Topics Covered:\n",
    "- Understanding DataFrame: 2D labeled data structure\n",
    "- Creating DataFrames (from lists, dictionaries, NumPy arrays)\n",
    "- Indexing, selection, and slicing (`loc[]`, `iloc[]`, boolean indexing)\n",
    "- Adding, renaming, and deleting columns\n",
    "- Practical: Basic DataFrame manipulation"
   ]
  },
  {
   "cell_type": "markdown",
   "metadata": {},
   "source": [
    "## Understanding DataFrame\n\n",
    "A **DataFrame** in Pandas is a two-dimensional, size-mutable, and heterogeneous data structure with labeled axes (rows and columns).\n\n",
    "### Key Features:\n",
    "- Think of it as a spreadsheet or SQL table.\n",
    "- Each column can hold a different data type.\n",
    "- Provides powerful methods for data manipulation and analysis.\n\n",
    "### When to Use DataFrames:\n",
    "- To handle structured data with rows and columns.\n",
    "- To perform complex operations like grouping, filtering, and joining.\n",
    "- To clean, transform, and analyze tabular datasets."
   ]
  },
  {
   "cell_type": "code",
   "execution_count": null,
   "metadata": {},
   "outputs": [],
   "source": [
    "# Importing Pandas\n",
    "import pandas as pd\n\n",
    "# Example of a DataFrame\n",
    "data = {\"Name\": [\"Alice\", \"Bob\", \"Charlie\"], \"Age\": [25, 30, 35], \"City\": [\"New York\", \"Los Angeles\", \"Chicago\"]}\n",
    "df = pd.DataFrame(data)\n",
    "print(df)"
   ]
  },
  {
   "cell_type": "markdown",
   "metadata": {},
   "source": [
    "## Creating DataFrames\n\n",
    "You can create a DataFrame from various sources, including lists, dictionaries, and NumPy arrays.\n\n",
    "### Creating DataFrame from a List of Lists\n",
    "Each sublist represents a row, and column headers can be specified."
   ]
  },
  {
   "cell_type": "code",
   "execution_count": null,
   "metadata": {},
   "outputs": [],
   "source": [
    "# Creating a DataFrame from a list of lists\n",
    "data = [[\"John\", 28, \"HR\"], [\"Anna\", 24, \"Finance\"], [\"Peter\", 29, \"IT\"]]\n",
    "columns = [\"Name\", \"Age\", \"Department\"]\n",
    "df_from_list = pd.DataFrame(data, columns=columns)\n",
    "print(df_from_list)"
   ]
  },
  {
   "cell_type": "markdown",
   "metadata": {},
   "source": [
    "### Creating DataFrame from a NumPy Array\n\n",
    "This method is useful when working with numerical data stored in arrays."
   ]
  },
  {
   "cell_type": "code",
   "execution_count": null,
   "metadata": {},
   "outputs": [],
   "source": [
    "# Creating a DataFrame from a NumPy array\n",
    "import numpy as np\n\n",
    "array_data = np.array([[1, 2, 3], [4, 5, 6], [7, 8, 9]])\n",
    "columns = [\"A\", \"B\", \"C\"]\n",
    "df_from_array = pd.DataFrame(array_data, columns=columns)\n",
    "print(df_from_array)"
   ]
  },
  {
   "cell_type": "markdown",
   "metadata": {},
   "source": [
    "## Indexing, Selection, and Slicing\n\n",
    "Pandas provides several methods to access rows and columns in a DataFrame.\n\n",
    "### Methods for Indexing and Selection:\n",
    "1. **.loc[]**: Label-based indexing.\n",
    "2. **.iloc[]**: Position-based indexing.\n",
    "3. **Boolean Indexing**: Filter rows based on conditions."
   ]
  },
  {
   "cell_type": "code",
   "execution_count": null,
   "metadata": {},
   "outputs": [],
   "source": [
    "# Using .loc[] for label-based indexing\n",
    "print(df.loc[0])  # Access the first row\n",
    "print(df.loc[:, \"Name\"])  # Access the 'Name' column\n\n",
    "# Using .iloc[] for position-based indexing\n",
    "print(df.iloc[1])  # Access the second row\n",
    "print(df.iloc[:, 1])  # Access the second column\n\n",
    "# Boolean indexing\n",
    "print(df[df[\"Age\"] > 28])  # Rows where 'Age' is greater than 28"
   ]
  },
  {
   "cell_type": "markdown",
   "metadata": {},
   "source": [
    "## Adding, Renaming, and Deleting Columns\n\n",
    "DataFrames are mutable, allowing you to modify their structure by adding, renaming, or deleting columns.\n\n",
    "### Adding a Column:\n",
    "You can directly assign a new column to the DataFrame.\n\n",
    "### Renaming Columns:\n",
    "Use the `rename` method to change column names.\n\n",
    "### Deleting Columns:\n",
    "Use the `drop` method to remove a column."
   ]
  },
  {
   "cell_type": "code",
   "execution_count": null,
   "metadata": {},
   "outputs": [],
   "source": [
    "# Adding a new column\n",
    "df[\"Salary\"] = [60000, 70000, 80000]\n",
    "print(df)\n\n",
    "# Renaming columns\n",
    "df.rename(columns={\"Name\": \"Employee Name\"}, inplace=True)\n",
    "print(df)\n\n",
    "# Deleting a column\n",
    "df.drop(columns=[\"City\"], inplace=True)\n",
    "print(df)"
   ]
  },
  {
   "cell_type": "markdown",
   "metadata": {},
   "source": [
    "## Practical: Basic DataFrame Manipulation\n\n",
    "Let’s create a DataFrame representing sales data and perform some operations.\n\n",
    "### Task:\n",
    "1. Create a DataFrame for sales data.\n",
    "2. Add a new column for total sales.\n",
    "3. Filter rows where total sales exceed $3000."
   ]
  },
  {
   "cell_type": "code",
   "execution_count": null,
   "metadata": {},
   "outputs": [],
   "source": [
    "# Creating a sales DataFrame\n",
    "sales_data = {\"Product\": [\"Laptop\", \"Phone\", \"Tablet\"], \"Price\": [1000, 500, 300], \"Quantity\": [5, 10, 7]}\n",
    "sales_df = pd.DataFrame(sales_data)\n",
    "print(sales_df)\n\n",
    "# Adding a new column for total sales\n",
    "sales_df[\"Total Sales\"] = sales_df[\"Price\"] * sales_df[\"Quantity\"]\n",
    "print(sales_df)\n\n",
    "# Filtering products with total sales greater than $3000\n",
    "print(sales_df[sales_df[\"Total Sales\"] > 3000])"
   ]
  }
 ],
 "metadata": {
  "kernelspec": {
   "display_name": "Python 3",
   "language": "python",
   "name": "python3"
  },
  "language_info": {
   "codemirror_mode": {
    "name": "ipython",
    "version": 3
   },
    "file_extension": ".py",
    "mimetype": "text/x-python",
    "name": "python",
    "nbconvert_exporter": "python",
    "pygments_lexer": "ipython3",
    "version": "3.9.7"
  }
 },
 "nbformat": 4,
 "nbformat_minor": 5
}
