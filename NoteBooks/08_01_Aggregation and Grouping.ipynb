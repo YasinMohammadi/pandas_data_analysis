{
    "cells": [
     {
      "cell_type": "markdown",
      "metadata": {},
      "source": [
       "# 8. Aggregation and Grouping\n\n",
       "This section explores how to group data and perform aggregations using Pandas. Grouping and aggregation are essential techniques for summarizing and analyzing large datasets effectively.\n\n",
       "## 1. Introduction to Grouping and Aggregation\n\n",
       "**Definition:**\n",
       "- **Grouping**: Splitting data into subsets based on unique values in one or more columns.\n",
       "- **Aggregation**: Calculating summary statistics (e.g., mean, sum, count) for each group.\n\n",
       "**Importance:**\n",
       "- Summarizes data efficiently.\n",
       "- Enables insights into patterns and relationships.\n",
       "- Supports data transformations and analysis.\n\n",
       "**Overview of `groupby()` in Pandas:**\n",
       "- **Split-Apply-Combine Paradigm:**\n",
       "  1. **Split**: Partition data into groups based on unique values.\n",
       "  2. **Apply**: Perform operations on each group.\n",
       "  3. **Combine**: Merge results into a single DataFrame.\n\n"
      ]
     },
     {
      "cell_type": "markdown",
      "metadata": {},
      "source": [
       "## 2. Grouping Data with `groupby()`\n\n",
       "The `groupby()` method in Pandas simplifies grouping and aggregating data into meaningful insights.\n\n",
       "### Grouping by a Single Column\n",
       "This method allows grouping data based on unique values in a column.\n"
      ]
     },
     {
      "cell_type": "code",
      "metadata": {},
      "source": [
       "import pandas as pd\n",
       "# Load the COVID-19 dataset\n",
       "data_path = '../DataSets/Data_COVID19_Indonesia.csv'\n",
       "covid_data = pd.read_csv(data_path)\n",
       "print('Dataset Preview:')\n",
       "print(covid_data.head())\n\n",
       "# Group by Location and calculate total cases\n",
       "grouped = covid_data.groupby('Location')\n",
       "total_cases = grouped['Total Cases'].sum()\n",
       "print(total_cases)"
      ]
     },
     {
      "cell_type": "markdown",
      "metadata": {},
      "source": [
       "### Grouping by Multiple Columns\n",
       "Combine multiple columns to create hierarchical groups for detailed analysis.\n"
      ]
     },
     {
      "cell_type": "code",
      "metadata": {},
      "source": [
       "# Group by Location and Date\n",
       "grouped_multi = covid_data.groupby(['Location', 'Date'])\n",
       "cases_summary = grouped_multi['New Cases'].sum()\n",
       "print(cases_summary)"
      ]
     },
     {
      "cell_type": "markdown",
      "metadata": {},
      "source": [
       "## 3. Basic Aggregations\n\n",
       "Pandas provides a variety of built-in aggregation methods to calculate summary statistics.\n\n",
       "### Common Aggregation Methods\n",
       "- **`mean()`**: Calculate the average value for each group.\n",
       "- **`sum()`**: Calculate the total value for each group.\n",
       "- **`count()`**: Count the number of occurrences in each group.\n",
       "- **`min()`**: Find the minimum value in each group.\n",
       "- **`max()`**: Find the maximum value in each group.\n\n",
       "### Applying a Single Aggregation Function to a Grouped Object\n"
      ]
     },
     {
      "cell_type": "code",
      "metadata": {},
      "source": [
       "# Calculate average new cases by location\n",
       "avg_new_cases = covid_data.groupby('Location')['New Cases'].mean()\n",
       "print('Average New Cases by Location:')\n",
       "print(avg_new_cases)"
      ]
     },
     {
      "cell_type": "markdown",
      "metadata": {},
      "source": [
       "### Examples\n",
       "#### Average Sales by Region\n",
       "Aggregating data to find averages reveals patterns within groups.\n"
      ]
     },
     {
      "cell_type": "code",
      "metadata": {},
      "source": [
       "# Example: Calculate average total cases by continent\n",
       "avg_total_cases = covid_data.groupby('Continent')['Total Cases'].mean()\n",
       "print('Average Total Cases by Continent:')\n",
       "print(avg_total_cases)"
      ]
     },
     {
      "cell_type": "markdown",
      "metadata": {},
      "source": [
       "#### Maximum Revenue per Product Category\n",
       "Use grouping and aggregation to determine maximum values in each group.\n"
      ]
     },
     {
      "cell_type": "code",
      "metadata": {},
      "source": [
       "# Example: Find the maximum new cases by location\n",
       "max_new_cases = covid_data.groupby('Location')['New Cases'].max()\n",
       "print('Maximum New Cases by Location:')\n",
       "print(max_new_cases)"
      ]
     },
     {
      "cell_type": "markdown",
      "metadata": {},
      "source": [
       "## Conclusion\n\n",
       "The `groupby()` method in Pandas is a powerful tool for aggregating and analyzing data. By splitting data into groups and applying functions to each group, you can uncover patterns and gain meaningful insights from your dataset."
      ]
     }
    ]
   }
   