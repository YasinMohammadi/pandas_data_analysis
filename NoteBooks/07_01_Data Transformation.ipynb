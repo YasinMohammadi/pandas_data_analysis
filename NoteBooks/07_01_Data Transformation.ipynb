{
 "cells": [
  {
   "cell_type": "markdown",
   "metadata": {},
   "source": [
    "# 1. Introduction to Data Transformation\n",
    "\n",
    "Data transformation is a critical process in data analysis and preparation, involving the modification, reorganization, or conversion of data to make it more suitable for analysis or modeling.\n",
    "\n",
    "## Definition\n",
    "Data transformation is the process of converting raw data into a format or structure that is more appropriate for analysis, visualization, or machine learning. It includes tasks like filtering, aggregating, and mapping data to create new features or enhance its usability.\n",
    "\n",
    "## Importance\n",
    "Transforming data is an essential step in any data analysis or machine learning pipeline. Here’s why it’s crucial:\n",
    "\n",
    "### 1. Preparing Data for Analysis or Modeling\n",
    "- Many datasets contain raw, unprocessed information that cannot be directly used in analysis or predictive models.\n",
    "- Data transformation ensures data is in the right format, scale, and structure for specific analytical tasks.\n",
    "\n",
    "### 2. Enhancing Data Interpretability and Usability\n",
    "- Transformation improves the clarity and usefulness of data by aligning it with analytical goals.\n",
    "- For example, converting categorical data to numerical representations can make it usable in machine learning models.\n",
    "\n",
    "### 3. Supporting Specific Analytical Needs or Objectives\n",
    "- Transformation enables tailoring the dataset to focus on particular aspects of interest.\n",
    "- For instance, extracting key metrics or creating aggregated summaries can provide deeper insights into the data.\n",
    "\n",
    "## Applications\n",
    "### 1. Filtering Subsets of Data for Exploratory Analysis\n",
    "- Focus on relevant data by filtering subsets based on conditions.\n",
    "- Example: Selecting rows where sales exceed a certain threshold to analyze high-performing products.\n",
    "\n",
    "### 2. Applying Business Rules to Transform Data\n",
    "- Apply domain-specific rules to modify or organize data.\n",
    "- Example: Categorizing customers into different tiers based on their purchase history.\n",
    "\n",
    "### 3. Creating New Features for Machine Learning Models\n",
    "- Engineer new features that enhance predictive power.\n",
    "- Example: Calculating the ratio of revenue to customer lifetime value to identify valuable customers.\n",
    "\n",
    "Data transformation is the bridge between raw data and actionable insights, making it a fundamental skill for data analysts and machine learning practitioners alike."
   ]
  },
  {
   "cell_type": "markdown",
   "metadata": {},
   "source": [
    "# 2. Filtering and Selecting Subsets\n",
    "\n",
    "Filtering and selecting subsets of data is a foundational skill in data analysis. It enables analysts to focus on relevant data, reducing noise and preparing datasets for further processing.\n",
    "\n",
    "## Concept\n",
    "### Filtering Data Based on Conditions or Subsets\n",
    "Filtering involves extracting rows or columns from a dataset based on specific criteria. This process is critical for narrowing down data to relevant subsets that meet analytical requirements.\n",
    "\n",
    "### Importance in Data Preprocessing and Analysis\n",
    "- Filtering helps reduce dataset size, making it easier to manage and analyze.\n",
    "- It improves the clarity and relevance of data by focusing on key attributes.\n",
    "- Essential for targeted analysis, exploratory data analysis (EDA), and feature engineering.\n",
    "\n",
    "## Topics to Cover\n",
    "\n",
    "### 1. Indexing (`loc[]` and `iloc[]`)\n",
    "- **`loc[]`**: Label-based indexing for selecting rows and columns by names.\n",
    "- **`iloc[]`**: Position-based indexing for selecting rows and columns by numerical indices.\n",
    "\n",
    "### 2. Boolean Filtering\n",
    "- Apply conditions to filter rows, e.g., selecting rows where a column exceeds a threshold.\n",
    "- Combine multiple conditions with `&` (and), `|` (or), and `~` (not).\n",
    "\n",
    "### 3. Advanced Filters\n",
    "- Use methods like `isin()` to filter rows based on a list of values.\n",
    "- Use `between()` to filter rows within a range of values.\n",
    "\n",
    "## Code Examples\n",
    "\n",
    "### Selecting Rows Based on a Single Condition\n"
   ]
  },
  {
   "cell_type": "code",
   "execution_count": null,
   "metadata": {},
   "outputs": [],
   "source": [
    "import pandas as pd\n",
    "\n",
    "# Example DataFrame\n",
    "data = {\"Name\": ['Alice', 'Bob', 'Charlie', 'David'],\n",
    "        \"Age\": [24, 35, 19, 42],\n",
    "        \"Salary\": [50000, 60000, 45000, 80000]}\n",
    "df = pd.DataFrame(data)\n",
    "\n",
    "# Filter rows where Age is greater than 30\n",
    "filtered_df = df[df['Age'] > 30]\n",
    "print('Filtered DataFrame:')\n",
    "print(filtered_df)"
   ]
  },
  {
   "cell_type": "markdown",
   "metadata": {},
   "source": [
    "### Combining Multiple Conditions\n"
   ]
  },
  {
   "cell_type": "code",
   "execution_count": null,
   "metadata": {},
   "outputs": [],
   "source": [
    "# Filter rows where Age is greater than 30 and Salary is greater than 55000\n",
    "filtered_df = df[(df['Age'] > 30) & (df['Salary'] > 55000)]\n",
    "print('Filtered DataFrame with Multiple Conditions:')\n",
    "print(filtered_df)"
   ]
  },
  {
   "cell_type": "markdown",
   "metadata": {},
   "source": [
    "### Filtering Specific Columns by Names or Indices\n"
   ]
  },
  {
   "cell_type": "code",
   "execution_count": null,
   "metadata": {},
   "outputs": [],
   "source": [
    "# Select specific columns\n",
    "selected_columns = df[['Name', 'Salary']]\n",
    "print('Selected Columns:')\n",
    "print(selected_columns)\n",
    "\n",
    "# Select columns by index position using iloc\n",
    "selected_columns = df.iloc[:, [0, 2]]\n",
    "print('Selected Columns by Index:')\n",
    "print(selected_columns)"
   ]
  },
  {
   "cell_type": "markdown",
   "metadata": {},
   "source": [
    "# 2. Filtering and Selecting Subsets\n",
    "\n",
    "Filtering and selecting subsets of data are essential operations in data analysis, allowing us to focus on specific parts of a dataset that meet certain conditions. This capability is critical for preprocessing, exploratory analysis, and creating targeted datasets.\n",
    "\n",
    "## Concept\n",
    "\n",
    "### Filtering Data Based on Conditions or Subsets\n",
    "Filtering involves extracting rows or columns that meet specific criteria. These criteria can include numerical thresholds, string matching, or logical combinations.\n",
    "\n",
    "### Importance in Data Preprocessing and Analysis\n",
    "1. **Data Reduction**: Helps reduce the size of a dataset, making it easier to analyze.\n",
    "2. **Focus on Relevance**: Allows you to concentrate on data relevant to your analysis goals.\n",
    "3. **Improved Efficiency**: Reduces computational complexity by working only with the necessary data.\n",
    "\n",
    "## Topics to Cover\n",
    "### Indexing (`loc[]` and `iloc[]`)\n",
    "- `loc[]`: Label-based indexing to select rows and columns by their labels.\n",
    "- `iloc[]`: Position-based indexing to select rows and columns by their integer indices.\n",
    "\n",
    "### Boolean Filtering\n",
    "- Use conditional expressions to filter rows where specific column values meet criteria.\n",
    "- Example: Selecting rows where a column exceeds a threshold.\n",
    "\n",
    "### Advanced Filters\n",
    "- Combine multiple conditions using logical operators (`&` for AND, `|` for OR).\n",
    "- Example: Selecting rows where two or more conditions are simultaneously satisfied.\n",
    "\n",
    "### Conditional Column Filtering\n",
    "- Use `.isin()` to filter rows where a column’s value is in a specified list.\n",
    "- Use `.between()` to filter rows where a column’s value falls within a range.\n",
    "\n"
   ]
  },
  {
   "cell_type": "code",
   "execution_count": null,
   "metadata": {},
   "outputs": [],
   "source": [
    "import pandas as pd\n",
    "\n",
    "# Load a sample dataset\n",
    "data_path = '../DataSets/Data_COVID19_Indonesia.csv'\n",
    "covid_data = pd.read_csv(data_path)\n",
    "print('Dataset Preview:')\n",
    "print(covid_data.head())"
   ]
  },
  {
   "cell_type": "markdown",
   "metadata": {},
   "source": [
    "### Selecting Rows Based on a Single Condition\n",
    "\n",
    "Suppose we want to filter rows where the number of new cases exceeds 500.\n"
   ]
  },
  {
   "cell_type": "code",
   "execution_count": null,
   "metadata": {},
   "outputs": [],
   "source": [
    "# Filter rows where 'New Cases' > 500\n",
    "high_cases = covid_data[covid_data['New Cases'] > 500]\n",
    "print('Rows where New Cases > 500:')\n",
    "print(high_cases.head())"
   ]
  },
  {
   "cell_type": "markdown",
   "metadata": {},
   "source": [
    "### Combining Multiple Conditions\n",
    "\n",
    "Now, let’s filter rows where the number of new cases exceeds 500 **and** the number of new deaths is less than 10.\n"
   ]
  },
  {
   "cell_type": "code",
   "execution_count": null,
   "metadata": {},
   "outputs": [],
   "source": [
    "# Filter rows with multiple conditions\n",
    "filtered_data = covid_data[(covid_data['New Cases'] > 500) & (covid_data['New Deaths'] < 10)]\n",
    "print('Rows where New Cases > 500 and New Deaths < 10:')\n",
    "print(filtered_data.head())"
   ]
  },
  {
   "cell_type": "markdown",
   "metadata": {},
   "source": [
    "### Filtering Specific Columns by Names\n",
    "\n",
    "You can filter specific columns by providing their names explicitly. For example, let’s select only the columns 'Date', 'New Cases', and 'New Deaths'.\n"
   ]
  },
  {
   "cell_type": "code",
   "execution_count": null,
   "metadata": {},
   "outputs": [],
   "source": [
    "# Select specific columns\n",
    "subset_columns = covid_data[['Date', 'New Cases', 'New Deaths']]\n",
    "print('Subset with Selected Columns:')\n",
    "print(subset_columns.head())"
   ]
  },
  {
   "cell_type": "markdown",
   "metadata": {},
   "source": [
    "### Advanced Filtering: Using `.isin()` and `.between()`\n",
    "\n",
    "#### Using `.isin()`\n",
    "Filter rows where the 'Province' column contains specific values (e.g., 'Jakarta' or 'West Java').\n"
   ]
  },
  {
   "cell_type": "code",
   "execution_count": null,
   "metadata": {},
   "outputs": [],
   "source": [
    "# Filter using .isin()\n",
    "provinces = ['DKI Jakarta', 'Maluku Utara']\n",
    "filtered_by_province = covid_data[covid_data['Province'].isin(provinces)]\n",
    "print('Rows where Province is DKI Jakarta or Maluku Utara:')\n",
    "print(filtered_by_province.head())"
   ]
  },
  {
   "cell_type": "markdown",
   "metadata": {},
   "source": [
    "#### Using `.between()`\n",
    "Filter rows where the 'Total Cases' fall within a specified range (e.g., between 1000 and 5000).\n"
   ]
  },
  {
   "cell_type": "code",
   "execution_count": null,
   "metadata": {},
   "outputs": [],
   "source": [
    "# Filter using .between()\n",
    "filtered_by_cases = covid_data[covid_data['Total Cases'].between(1000, 5000)]\n",
    "print('Rows where Total Cases are between 1000 and 5000:')\n",
    "print(filtered_by_cases.head())"
   ]
  },
  {
   "cell_type": "markdown",
   "metadata": {},
   "source": [
    "### Conclusion\n",
    "\n",
    "Filtering and selecting subsets of data are essential operations in Pandas for narrowing down datasets to meet specific analysis needs. By combining techniques like indexing, boolean filtering, and advanced methods (`isin`, `between`), you can efficiently extract and manipulate relevant data."
   ]
  }
 ],
 "metadata": {
  "kernelspec": {
   "display_name": "LexLenz",
   "language": "python",
   "name": "python3"
  },
  "language_info": {
   "codemirror_mode": {
    "name": "ipython",
    "version": 3
   },
   "file_extension": ".py",
   "mimetype": "text/x-python",
   "name": "python",
   "nbconvert_exporter": "python",
   "pygments_lexer": "ipython3",
   "version": "3.10.8"
  }
 },
 "nbformat": 4,
 "nbformat_minor": 2
}
