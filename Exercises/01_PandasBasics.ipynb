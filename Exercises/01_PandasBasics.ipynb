{
 "cells": [
  {
   "cell_type": "markdown",
   "metadata": {},
   "source": [
    "# Practice: Sections 1 to 5\n",
    "\n",
    "This practice notebook consolidates topics from Sections 1 to 5 to reinforce your learning. Each exercise is designed to help you apply concepts such as creating Series and DataFrames, exploring data, and performing basic manipulations.\n",
    "\n",
    "## Sections Covered:\n",
    "1. Introduction to Pandas\n",
    "2. Pandas Series: The Foundation\n",
    "3. Pandas DataFrame: The Core\n",
    "4. Importing and Exporting Data\n",
    "5. Exploring DataFrames\n",
    "\n",
    "### Instructions:\n",
    "- Read each question carefully.\n",
    "- Use the provided skeleton code to write your solutions.\n",
    "- Execute each cell to check your outputs."
   ]
  },
  {
   "cell_type": "markdown",
   "metadata": {},
   "source": [
    "## Question 1: Creating a Series\n",
    "\n",
    "Create a Pandas Series representing the monthly sales (in thousands of dollars) for a small business. The sales data for January to June is as follows:\n",
    "\n",
    "    | Month       | Sales |\n",
    "    |-------------|-------|\n",
    "    | January     | 15    |\n",
    "    | February    | 18    |\n",
    "    | March       | 20    |\n",
    "    | April       | 25    |\n",
    "    | May         | 30    |\n",
    "    | June        | 22    |\n",
    "\n",
    "### Task:\n",
    "1. Create the Series with months as the index.\n",
    "2. Display the Series."
   ]
  },
  {
   "cell_type": "code",
   "execution_count": null,
   "metadata": {},
   "outputs": [],
   "source": []
  },
  {
   "cell_type": "markdown",
   "metadata": {},
   "source": [
    "## Question 2: Creating a DataFrame\n",
    "\n",
    "Create a Pandas DataFrame representing the following student test scores:\n",
    "\n",
    "    | Student    | Math | Science | English |\n",
    "    |------------|------|---------|---------|\n",
    "    | Alice      | 88   | 92      | 85      |\n",
    "    | Bob        | 75   | 85      | 78      |\n",
    "    | Charlie    | 95   | 89      | 92      |\n",
    "    | David      | 70   | 78      | 80      |\n",
    "    | Eva        | 85   | 94      | 88      |\n",
    "\n",
    "    \n",
    "### Task:\n",
    "1. Create the DataFrame with columns \"Math\", \"Science\", and \"English\".\n",
    "2. Set the \"Student\" names as the index.\n",
    "3. Display the DataFrame."
   ]
  },
  {
   "cell_type": "code",
   "execution_count": null,
   "metadata": {},
   "outputs": [],
   "source": []
  },
  {
   "cell_type": "markdown",
   "metadata": {},
   "source": [
    "## Question 3: Importing Data\n",
    "\n",
    "Import the COVID-19 dataset from the file `Data_COVID19_Indonesia.csv`.\n",
    "\n",
    "### Task:\n",
    "1. Load the dataset into a DataFrame.\n",
    "2. Display the first 5 rows using `head()`."
   ]
  },
  {
   "cell_type": "code",
   "execution_count": null,
   "metadata": {},
   "outputs": [],
   "source": []
  },
  {
   "cell_type": "markdown",
   "metadata": {},
   "source": [
    "## Question 4: Exploring DataFrames\n",
    "\n",
    "Use the student test scores DataFrame created earlier to answer the following:\n",
    "\n",
    "### Task:\n",
    "1. Use the `info()` method to get a summary of the DataFrame.\n",
    "2. Use the `describe()` method to get descriptive statistics.\n",
    "3. Filter rows where the Math score is greater than 80."
   ]
  },
  {
   "cell_type": "code",
   "execution_count": null,
   "metadata": {},
   "outputs": [],
   "source": []
  },
  {
   "cell_type": "markdown",
   "metadata": {},
   "source": [
    "## Question 5: Manipulating DataFrames\n",
    "\n",
    "Using the COVID-19 dataset, perform the following manipulations:\n",
    "\n",
    "### Task:\n",
    "1. Create a new column called `Cases per Million` by dividing `Total Cases` by the `Population`.\n",
    "2. Filter rows where `Cases per Million` exceeds 100.\n",
    "3. Export the filtered data to a new CSV file named `filtered_covid_data.csv`."
   ]
  },
  {
   "cell_type": "code",
   "execution_count": null,
   "metadata": {},
   "outputs": [],
   "source": []
  }
 ],
 "metadata": {
  "kernelspec": {
   "display_name": "Python 3",
   "language": "python",
   "name": "python3"
  },
  "language_info": {
   "codemirror_mode": {
    "name": "ipython",
    "version": 3
   },
   "file_extension": ".py",
   "mimetype": "text/x-python",
   "name": "python",
   "nbconvert_exporter": "python",
   "pygments_lexer": "ipython3",
   "version": "3.9.7"
  }
 },
 "nbformat": 4,
 "nbformat_minor": 5
}
